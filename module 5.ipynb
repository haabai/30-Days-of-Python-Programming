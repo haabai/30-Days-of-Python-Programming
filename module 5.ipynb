{
 "cells": [
  {
   "cell_type": "markdown",
   "metadata": {},
   "source": [
    "# Exercises: Level 1"
   ]
  },
  {
   "cell_type": "markdown",
   "metadata": {},
   "source": [
    "1. Declare an empty list"
   ]
  },
  {
   "cell_type": "code",
   "execution_count": 1,
   "metadata": {},
   "outputs": [
    {
     "name": "stdout",
     "output_type": "stream",
     "text": [
      "0\n"
     ]
    }
   ],
   "source": [
    "empty_list= list()\n",
    "print(len(empty_list))"
   ]
  },
  {
   "cell_type": "markdown",
   "metadata": {},
   "source": [
    "2. Declare a list with more than 5 items"
   ]
  },
  {
   "cell_type": "code",
   "execution_count": 5,
   "metadata": {},
   "outputs": [
    {
     "name": "stdout",
     "output_type": "stream",
     "text": [
      "['apple', 'banana', 'cherry', 'strawberry', 'orange', 'pawpaw', 'grape']\n"
     ]
    }
   ],
   "source": [
    "fruits= ['apple', 'banana', 'cherry', 'strawberry', 'orange', 'pawpaw', 'grape']\n",
    "print(fruits)"
   ]
  },
  {
   "cell_type": "markdown",
   "metadata": {},
   "source": [
    "3. Find the length of your list\n",
    "   "
   ]
  },
  {
   "cell_type": "code",
   "execution_count": 6,
   "metadata": {},
   "outputs": [
    {
     "name": "stdout",
     "output_type": "stream",
     "text": [
      "7\n"
     ]
    }
   ],
   "source": [
    "fruits= ['apple', 'banana', 'cherry', 'strawberry', 'orange', 'pawpaw', 'grape']\n",
    "print(len(fruits))"
   ]
  },
  {
   "cell_type": "markdown",
   "metadata": {},
   "source": [
    "4. Get the first item, the middle item and the last item of the list"
   ]
  },
  {
   "cell_type": "code",
   "execution_count": 7,
   "metadata": {},
   "outputs": [
    {
     "name": "stdout",
     "output_type": "stream",
     "text": [
      "First item: apple\n",
      "Middle item: strawberry\n",
      "Last item: grape\n"
     ]
    }
   ],
   "source": [
    "fruits= ['apple', 'banana', 'cherry', 'strawberry', 'orange', 'pawpaw', 'grape']\n",
    "first_item = fruits[0]\n",
    "\n",
    "# Get the middle item (for an odd-length list, we'll take the exact middle item)\n",
    "middle_index = len(fruits) // 2\n",
    "middle_item = fruits[middle_index]\n",
    "last_item = fruits[-1]\n",
    "\n",
    "print(\"First item:\", first_item)\n",
    "print(\"Middle item:\", middle_item)\n",
    "print(\"Last item:\", last_item)\n"
   ]
  },
  {
   "cell_type": "markdown",
   "metadata": {},
   "source": [
    "5. Declare a list called mixed_data_types, put your (name, age, height, marital status, address)"
   ]
  },
  {
   "cell_type": "code",
   "execution_count": 8,
   "metadata": {},
   "outputs": [
    {
     "name": "stdout",
     "output_type": "stream",
     "text": [
      "['Abdullahi', 20, 1.75, 'Single', 'Lagos']\n"
     ]
    }
   ],
   "source": [
    "mixed_data_types = [\"Abdullahi\", 20, 1.75, \"Single\", \"Lagos\"]\n",
    "print(mixed_data_types)\n"
   ]
  },
  {
   "cell_type": "markdown",
   "metadata": {},
   "source": [
    "6.Declare a variable list named it_companies and assign initial values Facebook, Google, Microsoft, Apple, IBM, Oracle and Amazon"
   ]
  },
  {
   "cell_type": "code",
   "execution_count": null,
   "metadata": {},
   "outputs": [],
   "source": [
    "it_companies= ['Facebook', 'Google', 'Microsoft', 'Apple', 'IBM', 'Oracle', 'Amazon']"
   ]
  },
  {
   "cell_type": "markdown",
   "metadata": {},
   "source": [
    "7. print the list using print()"
   ]
  },
  {
   "cell_type": "code",
   "execution_count": 9,
   "metadata": {},
   "outputs": [
    {
     "name": "stdout",
     "output_type": "stream",
     "text": [
      "['Facebook', 'Google', 'Microsoft', 'Apple', 'IBM', 'Oracle', 'Amazon']\n"
     ]
    }
   ],
   "source": [
    "it_companies= ['Facebook', 'Google', 'Microsoft', 'Apple', 'IBM', 'Oracle', 'Amazon']\n",
    "print(it_companies)"
   ]
  },
  {
   "cell_type": "markdown",
   "metadata": {},
   "source": [
    "8. print the number of companies in the list"
   ]
  },
  {
   "cell_type": "code",
   "execution_count": 10,
   "metadata": {},
   "outputs": [
    {
     "name": "stdout",
     "output_type": "stream",
     "text": [
      "Number of items in the list: 7\n"
     ]
    }
   ],
   "source": [
    "it_companies= ['Facebook', 'Google', 'Microsoft', 'Apple', 'IBM', 'Oracle', 'Amazon']\n",
    "number_of_items = len(it_companies)\n",
    "print(\"Number of items in the list:\", number_of_items)\n"
   ]
  },
  {
   "cell_type": "markdown",
   "metadata": {},
   "source": [
    "9. print the first,middle and last company"
   ]
  },
  {
   "cell_type": "code",
   "execution_count": 11,
   "metadata": {},
   "outputs": [
    {
     "name": "stdout",
     "output_type": "stream",
     "text": [
      "First company: Facebook\n",
      "Middle company: Apple\n",
      "Last company: Amazon\n"
     ]
    }
   ],
   "source": [
    "it_companies= ['Facebook', 'Google', 'Microsoft', 'Apple', 'IBM', 'Oracle', 'Amazon']\n",
    "first_company = it_companies[0]\n",
    "middle_index = len(it_companies) // 2\n",
    "middle_company = it_companies[middle_index]\n",
    "last_company = it_companies[-1]\n",
    "\n",
    "print(\"First company:\", first_company)\n",
    "print(\"Middle company:\", middle_company)\n",
    "print(\"Last company:\", last_company)\n"
   ]
  },
  {
   "cell_type": "markdown",
   "metadata": {},
   "source": [
    "10. print the list after modifying one of the companies"
   ]
  },
  {
   "cell_type": "code",
   "execution_count": 12,
   "metadata": {},
   "outputs": [
    {
     "name": "stdout",
     "output_type": "stream",
     "text": [
      "['Facebook', 'Twitter', 'Microsoft', 'Apple', 'IBM', 'Oracle', 'Amazon']\n"
     ]
    }
   ],
   "source": [
    "it_companies= ['Facebook', 'Google', 'Microsoft', 'Apple', 'IBM', 'Oracle', 'Amazon']\n",
    "it_companies[1]= 'Twitter'\n",
    "print(it_companies)"
   ]
  },
  {
   "cell_type": "markdown",
   "metadata": {},
   "source": [
    "11. Add an IT company to it_companies"
   ]
  },
  {
   "cell_type": "code",
   "execution_count": 13,
   "metadata": {},
   "outputs": [
    {
     "name": "stdout",
     "output_type": "stream",
     "text": [
      "['Facebook', 'Google', 'Microsoft', 'Apple', 'IBM', 'Oracle', 'Amazon', 'Hilma Acquarium']\n"
     ]
    }
   ],
   "source": [
    "it_companies= ['Facebook', 'Google', 'Microsoft', 'Apple', 'IBM', 'Oracle', 'Amazon']\n",
    "it_companies.append('Hilma Acquarium')\n",
    "print(it_companies)\n",
    "\n"
   ]
  },
  {
   "cell_type": "markdown",
   "metadata": {},
   "source": [
    "12. Insert an IT company in the middle of the companies list"
   ]
  },
  {
   "cell_type": "code",
   "execution_count": 14,
   "metadata": {},
   "outputs": [
    {
     "name": "stdout",
     "output_type": "stream",
     "text": [
      "['Facebook', 'Google', 'Microsoft', 'Apple', 'Breedcoins', 'IBM', 'Oracle', 'Amazon', 'Hilma Acquarium']\n"
     ]
    }
   ],
   "source": [
    "it_companies= ['Facebook', 'Google', 'Microsoft', 'Apple', 'IBM', 'Oracle', 'Amazon', 'Hilma Acquarium']\n",
    "it_companies.insert(4, 'Breedcoins')\n",
    "print(it_companies)"
   ]
  },
  {
   "cell_type": "markdown",
   "metadata": {},
   "source": [
    "13. Change one of the it_companies name to uppercase (IBM Excluded)"
   ]
  },
  {
   "cell_type": "code",
   "execution_count": 15,
   "metadata": {},
   "outputs": [
    {
     "name": "stdout",
     "output_type": "stream",
     "text": [
      "['Facebook', 'Google', 'Microsoft', 'Apple', 'IBM', 'Oracle', 'AMAZON', 'Hilma Acquarium']\n"
     ]
    }
   ],
   "source": [
    "it_companies= ['Facebook', 'Google', 'Microsoft', 'Apple', 'IBM', 'Oracle', 'Amazon', 'Hilma Acquarium']\n",
    "index_to_change = 6\n",
    "it_companies[index_to_change] = it_companies[index_to_change].upper()\n",
    "print(it_companies)"
   ]
  },
  {
   "cell_type": "markdown",
   "metadata": {},
   "source": [
    "14. Join the it_companies with a string '#; '"
   ]
  },
  {
   "cell_type": "code",
   "execution_count": 1,
   "metadata": {},
   "outputs": [
    {
     "name": "stdout",
     "output_type": "stream",
     "text": [
      "Facebook#; Google#; Microsoft#; Apple#; IBM#; Oracle#; Amazon#; Hilma Acquarium\n"
     ]
    }
   ],
   "source": [
    "it_companies= ['Facebook', 'Google', 'Microsoft', 'Apple', 'IBM', 'Oracle', 'Amazon', 'Hilma Acquarium']\n",
    "joined_it_companies= '#; '.join(it_companies)\n",
    "print(joined_it_companies)"
   ]
  },
  {
   "cell_type": "markdown",
   "metadata": {},
   "source": [
    "15. Check if a certain company exists in it_companies list"
   ]
  },
  {
   "cell_type": "code",
   "execution_count": 2,
   "metadata": {},
   "outputs": [
    {
     "name": "stdout",
     "output_type": "stream",
     "text": [
      "True\n"
     ]
    }
   ],
   "source": [
    "it_companies= ['Facebook', 'Google', 'Microsoft', 'Apple', 'IBM', 'Oracle', 'Amazon', 'Hilma Acquarium']\n",
    "does_exist= 'Microsoft' in it_companies\n",
    "print(does_exist)"
   ]
  },
  {
   "cell_type": "markdown",
   "metadata": {},
   "source": [
    "16. Sort the list using sort() method"
   ]
  },
  {
   "cell_type": "code",
   "execution_count": 3,
   "metadata": {},
   "outputs": [
    {
     "name": "stdout",
     "output_type": "stream",
     "text": [
      "['Amazon', 'Apple', 'Facebook', 'Google', 'Hilma Acquarium', 'IBM', 'Microsoft', 'Oracle']\n"
     ]
    }
   ],
   "source": [
    "it_companies= ['Facebook', 'Google', 'Microsoft', 'Apple', 'IBM', 'Oracle', 'Amazon', 'Hilma Acquarium']\n",
    "it_companies.sort()\n",
    "print(it_companies)"
   ]
  },
  {
   "cell_type": "markdown",
   "metadata": {},
   "source": [
    "17. Reverse the list in descending order using reverse() method"
   ]
  },
  {
   "cell_type": "code",
   "execution_count": 4,
   "metadata": {},
   "outputs": [
    {
     "name": "stdout",
     "output_type": "stream",
     "text": [
      "['Hilma Acquarium', 'Amazon', 'Oracle', 'IBM', 'Apple', 'Microsoft', 'Google', 'Facebook']\n"
     ]
    }
   ],
   "source": [
    "it_companies= ['Facebook', 'Google', 'Microsoft', 'Apple', 'IBM', 'Oracle', 'Amazon', 'Hilma Acquarium']\n",
    "it_companies.reverse()\n",
    "print(it_companies)"
   ]
  },
  {
   "cell_type": "markdown",
   "metadata": {},
   "source": [
    "18.Slice out the first 3 companies from the list"
   ]
  },
  {
   "cell_type": "code",
   "execution_count": 5,
   "metadata": {},
   "outputs": [
    {
     "name": "stdout",
     "output_type": "stream",
     "text": [
      "['Facebook', 'Google', 'Microsoft']\n"
     ]
    }
   ],
   "source": [
    "it_companies= ['Facebook', 'Google', 'Microsoft', 'Apple', 'IBM', 'Oracle', 'Amazon', 'Hilma Acquarium']\n",
    "first_three_it_companies= it_companies[:3]\n",
    "print(first_three_it_companies)"
   ]
  },
  {
   "cell_type": "markdown",
   "metadata": {},
   "source": [
    "19. slice out the last 3 companies from the list"
   ]
  },
  {
   "cell_type": "code",
   "execution_count": 7,
   "metadata": {},
   "outputs": [
    {
     "name": "stdout",
     "output_type": "stream",
     "text": [
      "['Oracle', 'Amazon', 'Hilma Acquarium']\n"
     ]
    }
   ],
   "source": [
    "it_companies= ['Facebook', 'Google', 'Microsoft', 'Apple', 'IBM', 'Oracle', 'Amazon', 'Hilma Acquarium']\n",
    "last_three_it_companies= it_companies[-3:] \n",
    "print(last_three_it_companies)"
   ]
  },
  {
   "cell_type": "markdown",
   "metadata": {},
   "source": [
    "20. Slice out the middle IT company or companies from the list"
   ]
  },
  {
   "cell_type": "code",
   "execution_count": 10,
   "metadata": {},
   "outputs": [
    {
     "name": "stdout",
     "output_type": "stream",
     "text": [
      "middle_it_companies: IBM\n"
     ]
    }
   ],
   "source": [
    "it_companies= ['Facebook', 'Google', 'Microsoft', 'Apple', 'IBM', 'Oracle', 'Amazon', 'Hilma Acquarium']\n",
    "middle_index= len(it_companies) //2\n",
    "middle_it_companies= it_companies[middle_index]\n",
    "print(\"middle_it_companies:\", middle_it_companies)"
   ]
  },
  {
   "cell_type": "markdown",
   "metadata": {},
   "source": [
    "21. Remove the first IT company or companies from the list"
   ]
  },
  {
   "cell_type": "code",
   "execution_count": 11,
   "metadata": {},
   "outputs": [
    {
     "name": "stdout",
     "output_type": "stream",
     "text": [
      "['Google', 'Microsoft', 'Apple', 'IBM', 'Oracle', 'Amazon', 'Hilma Acquarium']\n"
     ]
    }
   ],
   "source": [
    "it_companies= ['Facebook', 'Google', 'Microsoft', 'Apple', 'IBM', 'Oracle', 'Amazon', 'Hilma Acquarium']\n",
    "it_companies.remove('Facebook')\n",
    "print(it_companies)"
   ]
  },
  {
   "cell_type": "markdown",
   "metadata": {},
   "source": [
    "22. Remove the middle IT company from the list"
   ]
  },
  {
   "cell_type": "code",
   "execution_count": 13,
   "metadata": {},
   "outputs": [
    {
     "name": "stdout",
     "output_type": "stream",
     "text": [
      "['Facebook', 'Google', 'Microsoft', 'Apple', 'Oracle', 'Amazon', 'Hilma Acquarium']\n"
     ]
    }
   ],
   "source": [
    "it_companies= ['Facebook', 'Google', 'Microsoft', 'Apple', 'IBM', 'Oracle', 'Amazon', 'Hilma Acquarium']\n",
    "it_companies.remove('IBM')\n",
    "print(it_companies)"
   ]
  },
  {
   "cell_type": "markdown",
   "metadata": {},
   "source": [
    "23. Remove the last IT company from the list"
   ]
  },
  {
   "cell_type": "code",
   "execution_count": 12,
   "metadata": {},
   "outputs": [
    {
     "name": "stdout",
     "output_type": "stream",
     "text": [
      "['Facebook', 'Google', 'Microsoft', 'Apple', 'IBM', 'Oracle', 'Amazon']\n"
     ]
    }
   ],
   "source": [
    "it_companies= ['Facebook', 'Google', 'Microsoft', 'Apple', 'IBM', 'Oracle', 'Amazon', 'Hilma Acquarium']\n",
    "it_companies.remove('Hilma Acquarium')\n",
    "print(it_companies)"
   ]
  },
  {
   "cell_type": "markdown",
   "metadata": {},
   "source": [
    "24. Remove all IT companies from the list"
   ]
  },
  {
   "cell_type": "code",
   "execution_count": 14,
   "metadata": {},
   "outputs": [
    {
     "name": "stdout",
     "output_type": "stream",
     "text": [
      "[]\n"
     ]
    }
   ],
   "source": [
    "it_companies= ['Facebook', 'Google', 'Microsoft', 'Apple', 'IBM', 'Oracle', 'Amazon', 'Hilma Acquarium']\n",
    "it_companies.clear()\n",
    "print(it_companies)"
   ]
  },
  {
   "cell_type": "markdown",
   "metadata": {},
   "source": [
    "25. Destroy the IT company list"
   ]
  },
  {
   "cell_type": "code",
   "execution_count": 16,
   "metadata": {},
   "outputs": [
    {
     "name": "stdout",
     "output_type": "stream",
     "text": [
      "[]\n"
     ]
    }
   ],
   "source": [
    "it_companies= ['Facebook', 'Google', 'Microsoft', 'Apple', 'IBM', 'Oracle', 'Amazon', 'Hilma Acquarium']\n",
    "it_companies=[]\n",
    "print(it_companies)"
   ]
  },
  {
   "cell_type": "markdown",
   "metadata": {},
   "source": [
    "26. Join the following lists:\n",
    "    i. front_end= ['HTML', 'CSS', 'JS', 'React', 'Redux']\n",
    "    ii. back_end= ['Node', 'Express', 'MongoDB]"
   ]
  },
  {
   "cell_type": "code",
   "execution_count": 17,
   "metadata": {},
   "outputs": [
    {
     "name": "stdout",
     "output_type": "stream",
     "text": [
      "['HTML', 'CSS', 'JS', 'React', 'Redux', 'Node', 'Express', 'MongoDB']\n"
     ]
    }
   ],
   "source": [
    "front_end= ['HTML', 'CSS', 'JS', 'React', 'Redux']\n",
    "back_end= ['Node', 'Express', 'MongoDB']\n",
    "front_end_and_back_end= front_end +back_end\n",
    "print(front_end_and_back_end)"
   ]
  },
  {
   "cell_type": "markdown",
   "metadata": {},
   "source": [
    "27. After joining the lists in question 26. copy the joined list and assign it to a variable full_stack, then insert Python and SQL after Redux."
   ]
  },
  {
   "cell_type": "code",
   "execution_count": 18,
   "metadata": {},
   "outputs": [
    {
     "name": "stdout",
     "output_type": "stream",
     "text": [
      "['HTML', 'CSS', 'JS', 'React', 'Redux', 'Python', 'SQL', 'Node', 'Express', 'MongoDB']\n"
     ]
    }
   ],
   "source": [
    "full_stack= ['HTML', 'CSS', 'JS', 'React', 'Redux', 'Node', 'Express','MongoDB']\n",
    "full_stack.insert(5, 'Python')\n",
    "full_stack.insert(6, 'SQL')\n",
    "print(full_stack)\n"
   ]
  },
  {
   "cell_type": "markdown",
   "metadata": {},
   "source": [
    "# Exercises: Level 2"
   ]
  },
  {
   "cell_type": "markdown",
   "metadata": {},
   "source": [
    "1. The following is alist of 10 students ages:\n",
    "   ages= [19, 22, 19, 24, 20, 25, 26, 24, 25, 24]\n",
    "   "
   ]
  },
  {
   "cell_type": "markdown",
   "metadata": {},
   "source": [
    ". Sort the list and find the min and max age"
   ]
  },
  {
   "cell_type": "code",
   "execution_count": 19,
   "metadata": {},
   "outputs": [
    {
     "name": "stdout",
     "output_type": "stream",
     "text": [
      "[19, 19, 20, 22, 24, 24, 24, 25, 25, 26]\n"
     ]
    }
   ],
   "source": [
    "ages= [19, 22, 19, 24, 20, 25, 26, 24, 25, 24]\n",
    "ages.sort()\n",
    "print(ages)"
   ]
  },
  {
   "cell_type": "markdown",
   "metadata": {},
   "source": [
    "Find the min and max age"
   ]
  },
  {
   "cell_type": "code",
   "execution_count": 20,
   "metadata": {},
   "outputs": [
    {
     "name": "stdout",
     "output_type": "stream",
     "text": [
      "min_age: 19\n",
      "max_age: 26\n"
     ]
    }
   ],
   "source": [
    "min_age= min(ages)\n",
    "max_age= max(ages)\n",
    "print(\"min_age:\", min_age)\n",
    "print(\"max_age:\", max_age)"
   ]
  },
  {
   "cell_type": "markdown",
   "metadata": {},
   "source": [
    ". Add the min age and max age again to the list"
   ]
  },
  {
   "cell_type": "code",
   "execution_count": 21,
   "metadata": {},
   "outputs": [
    {
     "name": "stdout",
     "output_type": "stream",
     "text": [
      "[19, 22, 19, 24, 20, 25, 26, 24, 25, 24, 19, 26]\n"
     ]
    }
   ],
   "source": [
    "ages= [19, 22, 19, 24, 20, 25, 26, 24, 25, 24]\n",
    "min_age= min(ages)\n",
    "max_age= max(ages)\n",
    "ages.append(min_age)\n",
    "ages.append(max_age)\n",
    "print(ages)"
   ]
  },
  {
   "cell_type": "markdown",
   "metadata": {},
   "source": [
    ". Find the median age (one middle item or two middle items divided by 2)"
   ]
  },
  {
   "cell_type": "code",
   "execution_count": null,
   "metadata": {},
   "outputs": [
    {
     "name": "stdout",
     "output_type": "stream",
     "text": [
      "Sorted ages: [19, 19, 20, 22, 24, 24, 24, 25, 25, 26]\n",
      "Median age: 24.0\n"
     ]
    }
   ],
   "source": [
    "ages= [19, 22, 19, 24, 20, 25, 26, 24, 25, 24]\n",
    "ages.sort()\n",
    "# Calculate the median\n",
    "n = len(ages)\n",
    "if n % 2 == 1:  # Odd number of items\n",
    "    median_age = ages[n // 2]\n",
    "else:  # Even number of items\n",
    "    median_age = (ages[n // 2 - 1] + ages[n // 2]) / 2\n",
    "print(\"Sorted ages:\", ages)\n",
    "print(\"Median age:\", median_age)\n"
   ]
  },
  {
   "cell_type": "markdown",
   "metadata": {},
   "source": [
    ". Find the average age (sum of all the items divided by their number)"
   ]
  },
  {
   "cell_type": "code",
   "execution_count": 24,
   "metadata": {},
   "outputs": [
    {
     "name": "stdout",
     "output_type": "stream",
     "text": [
      "22.8\n"
     ]
    }
   ],
   "source": [
    "ages= [19, 22, 19, 24, 20, 25, 26, 24, 25, 24]\n",
    "average_age= sum(ages) / len(ages)\n",
    "print(average_age)"
   ]
  },
  {
   "cell_type": "markdown",
   "metadata": {},
   "source": [
    ". Find the range of the ages (max minus min)"
   ]
  },
  {
   "cell_type": "code",
   "execution_count": 25,
   "metadata": {},
   "outputs": [
    {
     "name": "stdout",
     "output_type": "stream",
     "text": [
      "7\n"
     ]
    }
   ],
   "source": [
    "ages= [19, 22, 19, 24, 20, 25, 26, 24, 25, 24]\n",
    "range_age= max(ages) - min(ages)\n",
    "print(range_age)"
   ]
  },
  {
   "cell_type": "markdown",
   "metadata": {},
   "source": [
    ". Compare the value of (min - average) and (max - average), use abs() method"
   ]
  },
  {
   "cell_type": "markdown",
   "metadata": {},
   "source": [
    "\n"
   ]
  },
  {
   "cell_type": "markdown",
   "metadata": {},
   "source": [
    "2. Find the middle country(ies) in the countries list"
   ]
  },
  {
   "cell_type": "code",
   "execution_count": 28,
   "metadata": {},
   "outputs": [
    {
     "name": "stdout",
     "output_type": "stream",
     "text": [
      "Middle country: Liechtenstein\n"
     ]
    }
   ],
   "source": [
    "countries = [\n",
    "    'Afghanistan', 'Albania', 'Algeria', 'Andorra', 'Angola', 'Antigua and Barbuda', 'Argentina', 'Armenia', \n",
    "    'Australia', 'Austria', 'Azerbaijan', 'Bahamas', 'Bahrain', 'Bangladesh', 'Barbados', 'Belarus', 'Belgium', \n",
    "    'Belize', 'Benin', 'Bhutan', 'Bolivia', 'Bosnia and Herzegovina', 'Botswana', 'Brazil', 'Brunei', 'Bulgaria', \n",
    "    'Burkina Faso', 'Burundi', 'Cabo Verde', 'Cambodia', 'Cameroon', 'Canada', 'Central African Republic', 'Chad', \n",
    "    'Chile', 'China', 'Colombia', 'Comoros', 'Congo (Congo-Brazzaville)', 'Costa Rica', 'Croatia', 'Cuba', 'Cyprus', \n",
    "    'Czechia (Czech Republic)', 'Democratic Republic of the Congo', 'Denmark', 'Djibouti', 'Dominica', 'Dominican Republic', \n",
    "    'Ecuador', 'Egypt', 'El Salvador', 'Equatorial Guinea', 'Eritrea', 'Estonia', 'Eswatini (fmr. \"Swaziland\")', \n",
    "    'Ethiopia', 'Fiji', 'Finland', 'France', 'Gabon', 'Gambia', 'Georgia', 'Germany', 'Ghana', 'Greece', 'Grenada', \n",
    "    'Guatemala', 'Guinea', 'Guinea-Bissau', 'Guyana', 'Haiti', 'Honduras', 'Hungary', 'Iceland', 'India', 'Indonesia', \n",
    "    'Iran', 'Iraq', 'Ireland', 'Israel', 'Italy', 'Ivory Coast', 'Jamaica', 'Japan', 'Jordan', 'Kazakhstan', 'Kenya', \n",
    "    'Kiribati', 'Kuwait', 'Kyrgyzstan', 'Laos', 'Latvia', 'Lebanon', 'Lesotho', 'Liberia', 'Libya', 'Liechtenstein', \n",
    "    'Lithuania', 'Luxembourg', 'Madagascar', 'Malawi', 'Malaysia', 'Maldives', 'Mali', 'Malta', 'Marshall Islands', \n",
    "    'Mauritania', 'Mauritius', 'Mexico', 'Micronesia', 'Moldova', 'Monaco', 'Mongolia', 'Montenegro', 'Morocco', \n",
    "    'Mozambique', 'Myanmar (formerly Burma)', 'Namibia', 'Nauru', 'Nepal', 'Netherlands', 'New Zealand', 'Nicaragua', \n",
    "    'Niger', 'Nigeria', 'North Korea', 'North Macedonia', 'Norway', 'Oman', 'Pakistan', 'Palau', 'Palestine State', \n",
    "    'Panama', 'Papua New Guinea', 'Paraguay', 'Peru', 'Philippines', 'Poland', 'Portugal', 'Qatar', 'Romania', 'Russia', \n",
    "    'Rwanda', 'Saint Kitts and Nevis', 'Saint Lucia', 'Saint Vincent and the Grenadines', 'Samoa', 'San Marino', \n",
    "    'Sao Tome and Principe', 'Saudi Arabia', 'Senegal', 'Serbia', 'Seychelles', 'Sierra Leone', 'Singapore', 'Slovakia', \n",
    "    'Slovenia', 'Solomon Islands', 'Somalia', 'South Africa', 'South Korea', 'South Sudan', 'Spain', 'Sri Lanka', \n",
    "    'Sudan', 'Suriname', 'Sweden', 'Switzerland', 'Syria', 'Tajikistan', 'Tanzania', 'Thailand', 'Timor-Leste', \n",
    "    'Togo', 'Tonga', 'Trinidad and Tobago', 'Tunisia', 'Turkey', 'Turkmenistan', 'Tuvalu', 'Uganda', 'Ukraine', \n",
    "    'United Arab Emirates', 'United Kingdom', 'United States of America', 'Uruguay', 'Uzbekistan', 'Vanuatu', \n",
    "    'Vatican City', 'Venezuela', 'Vietnam', 'Yemen', 'Zambia', 'Zimbabwe'\n",
    "]\n",
    "middle_index = len(countries) // 2\n",
    "\n",
    "# Check if the number of countries is odd or even\n",
    "if len(countries) % 2 == 1:\n",
    "    # Odd number of countries, so there is one middle country\n",
    "    middle_country = countries[middle_index]\n",
    "    print(\"Middle country:\", middle_country)\n",
    "else:\n",
    "    # Even number of countries, so there are two middle countries\n",
    "    middle_countries = countries[middle_index - 1:middle_index + 1]\n",
    "    print(\"Middle countries:\", middle_countries)\n"
   ]
  },
  {
   "cell_type": "markdown",
   "metadata": {},
   "source": [
    "3. ['China', 'Russia', 'USA', Finland', 'Sweden', 'Norway', 'Denmark']. Unpack the first three countries and the rest as scandic countries."
   ]
  },
  {
   "cell_type": "code",
   "execution_count": 1,
   "metadata": {},
   "outputs": [
    {
     "name": "stdout",
     "output_type": "stream",
     "text": [
      "First country: China\n",
      "Second country: Russia\n",
      "Third country: USA\n",
      "Scandic countries: ['Finland', 'Sweden', 'Norway', 'Denmark']\n"
     ]
    }
   ],
   "source": [
    "# List of countries\n",
    "countries = ['China', 'Russia', 'USA', 'Finland', 'Sweden', 'Norway', 'Denmark']\n",
    "\n",
    "# Unpack the first three countries and group the rest\n",
    "first_country, second_country, third_country, *scandic_countries = countries\n",
    "\n",
    "# Print the results\n",
    "print(\"First country:\", first_country)\n",
    "print(\"Second country:\", second_country)\n",
    "print(\"Third country:\", third_country)\n",
    "print(\"Scandic countries:\", scandic_countries)\n"
   ]
  },
  {
   "cell_type": "markdown",
   "metadata": {},
   "source": [
    "# Tuple Exercises: Level 1"
   ]
  },
  {
   "cell_type": "markdown",
   "metadata": {},
   "source": [
    "1. Creat an empty tuple"
   ]
  },
  {
   "cell_type": "code",
   "execution_count": 2,
   "metadata": {},
   "outputs": [
    {
     "name": "stdout",
     "output_type": "stream",
     "text": [
      "()\n"
     ]
    }
   ],
   "source": [
    "empty_tuple= ()\n",
    "print(empty_tuple)"
   ]
  },
  {
   "cell_type": "markdown",
   "metadata": {},
   "source": [
    "2. Creat a tuple containing names of your sisters and your brothers."
   ]
  },
  {
   "cell_type": "code",
   "execution_count": 4,
   "metadata": {},
   "outputs": [],
   "source": [
    "brothers= ('Adamu', 'Mahmud')\n",
    "sisters= ('Halima', 'Aisha')\n"
   ]
  },
  {
   "cell_type": "markdown",
   "metadata": {},
   "source": [
    "3. Join sisters and brothers tuples and assign to siblings"
   ]
  },
  {
   "cell_type": "code",
   "execution_count": 5,
   "metadata": {},
   "outputs": [
    {
     "name": "stdout",
     "output_type": "stream",
     "text": [
      "('Halima', 'Aisha', 'John', 'Mahmud')\n"
     ]
    }
   ],
   "source": [
    "# Tuple containing names of sisters\n",
    "sisters = (\"Halima\", \"Aisha\")\n",
    "\n",
    "# Tuple containing names of brothers\n",
    "brothers = (\"John\", \"Mahmud\")\n",
    "\n",
    "# Join sisters and brothers tuples and assign to siblings\n",
    "siblings = sisters + brothers\n",
    "\n",
    "# Print the combined tuple\n",
    "print(siblings)\n"
   ]
  },
  {
   "cell_type": "markdown",
   "metadata": {},
   "source": [
    "3. How many siblings do you have"
   ]
  },
  {
   "cell_type": "code",
   "execution_count": 6,
   "metadata": {},
   "outputs": [
    {
     "name": "stdout",
     "output_type": "stream",
     "text": [
      "number of siblings: 4\n"
     ]
    }
   ],
   "source": [
    "siblings= ('Halima', 'Aisha', 'Adamu', 'Mahmud')\n",
    "number_siblings= len(siblings)\n",
    "print(\"number of siblings:\", number_siblings)"
   ]
  },
  {
   "cell_type": "markdown",
   "metadata": {},
   "source": [
    "4. Modify the siblings tuple and add the name of your father and mother and assign it to family_members"
   ]
  },
  {
   "cell_type": "code",
   "execution_count": 7,
   "metadata": {},
   "outputs": [
    {
     "name": "stdout",
     "output_type": "stream",
     "text": [
      "('Halima', 'Aisha', 'Adamu', 'Mahmud', 'Hassan', 'Maryam')\n"
     ]
    }
   ],
   "source": [
    "# Tuple containing names of siblings\n",
    "siblings = (\"Halima\", \"Aisha\", \"Adamu\", \"Mahmud\")\n",
    "\n",
    "# Names of father and mother\n",
    "father = \"Hassan\"\n",
    "mother = \"Maryam\"\n",
    "\n",
    "# Create a new tuple that includes siblings, father, and mother\n",
    "family_members = siblings + (father, mother)\n",
    "\n",
    "# Print the new tuple\n",
    "print(family_members)\n"
   ]
  },
  {
   "cell_type": "markdown",
   "metadata": {},
   "source": [
    "# Tuple Exercises: Level 2"
   ]
  },
  {
   "cell_type": "markdown",
   "metadata": {},
   "source": [
    "1. Unpack siblings and parents from family_members"
   ]
  },
  {
   "cell_type": "code",
   "execution_count": 9,
   "metadata": {},
   "outputs": [
    {
     "name": "stdout",
     "output_type": "stream",
     "text": [
      "Siblings: ('Halima', 'Aisha', 'Adamu', 'Mahmud')\n",
      "Parents: ('Hassan', 'Maryam')\n"
     ]
    }
   ],
   "source": [
    "# Tuple containing family members\n",
    "family_members=(\"Halima\", \"Aisha\", \"Adamu\", \"Mahmud\", \"Hassan\", \"Maryam\")\n",
    "\n",
    "# Unpack siblings and parents from family_members\n",
    "siblings = family_members[:4]  # First four are siblings\n",
    "parents = family_members[4:]   # Last two are parents\n",
    "\n",
    "# Print the results\n",
    "print(\"Siblings:\", siblings)\n",
    "print(\"Parents:\", parents)\n"
   ]
  },
  {
   "cell_type": "markdown",
   "metadata": {},
   "source": [
    "2. Creat Fruits, Vegetables and animal products tuples. Join the three tuples and assign it to a variable called food_stuff_tp."
   ]
  },
  {
   "cell_type": "code",
   "execution_count": 10,
   "metadata": {},
   "outputs": [
    {
     "name": "stdout",
     "output_type": "stream",
     "text": [
      "('orange', 'banana', 'cherry', 'pawpaw', 'carrot', 'spinach', 'potato', 'lettuce', 'milk', 'eggs', 'cheese', 'yogurt')\n"
     ]
    }
   ],
   "source": [
    "# Tuples for fruits, vegetables, and animal products\n",
    "fruits = (\"orange\", \"banana\", \"cherry\", \"pawpaw\")\n",
    "vegetables = (\"carrot\", \"spinach\", \"potato\", \"lettuce\")\n",
    "animal_products = (\"milk\", \"eggs\", \"cheese\", \"yogurt\")\n",
    "\n",
    "# Join the three tuples\n",
    "food_stuff_tp = fruits + vegetables + animal_products\n",
    "\n",
    "# Print the combined tuple\n",
    "print(food_stuff_tp)\n"
   ]
  },
  {
   "cell_type": "markdown",
   "metadata": {},
   "source": [
    "3. Change the about food_stuff_tp tuple to a food_stuff_lt_list"
   ]
  },
  {
   "cell_type": "code",
   "execution_count": 12,
   "metadata": {},
   "outputs": [
    {
     "name": "stdout",
     "output_type": "stream",
     "text": [
      "['orange', 'banana', 'cherry', 'pawpaw', 'carrot', 'spinach', 'potato', 'lettuce', 'milk', 'eggs', 'cheese', 'yogurt']\n"
     ]
    }
   ],
   "source": [
    "# Tuples for fruits, vegetables, and animal products\n",
    "fruits = (\"orange\", \"banana\", \"cherry\", \"pawpaw\")\n",
    "vegetables = (\"carrot\", \"spinach\", \"potato\", \"lettuce\")\n",
    "animal_products = (\"milk\", \"eggs\", \"cheese\", \"yogurt\")\n",
    "\n",
    "# Join the three tuples\n",
    "food_stuff_tp = fruits + vegetables + animal_products\n",
    "\n",
    "# Convert the tuple to a list\n",
    "food_stuff_lt_list = list(food_stuff_tp)\n",
    "\n",
    "# Print the list\n",
    "print(food_stuff_lt_list)\n"
   ]
  },
  {
   "cell_type": "markdown",
   "metadata": {},
   "source": [
    "4. Slice out the middle item or items from the tuple food_stuff_tp or food_stuff_lt"
   ]
  },
  {
   "cell_type": "code",
   "execution_count": 13,
   "metadata": {},
   "outputs": [
    {
     "name": "stdout",
     "output_type": "stream",
     "text": [
      "Middle item(s) from tuple: ('spinach', 'potato')\n",
      "Middle item(s) from list: ['spinach', 'potato']\n"
     ]
    }
   ],
   "source": [
    "# Tuples for fruits, vegetables, and animal products\n",
    "fruits = (\"orange\", \"banana\", \"cherry\", \"pawpaw\")\n",
    "vegetables = (\"carrot\", \"spinach\", \"potato\", \"lettuce\")\n",
    "animal_products = (\"milk\", \"eggs\", \"cheese\", \"yogurt\")\n",
    "\n",
    "# Join the three tuples\n",
    "food_stuff_tp = fruits + vegetables + animal_products\n",
    "\n",
    "# Convert the tuple to a list\n",
    "food_stuff_lt = list(food_stuff_tp)\n",
    "\n",
    "# Function to slice out the middle item(s)\n",
    "def slice_middle_items(collection):\n",
    "    length = len(collection)\n",
    "    middle_index = length // 2\n",
    "\n",
    "    if length % 2 == 1:\n",
    "        # Odd number of items: one middle item\n",
    "        return collection[middle_index]\n",
    "    else:\n",
    "        # Even number of items: two middle items\n",
    "        return collection[middle_index - 1:middle_index + 1]\n",
    "\n",
    "# Slice middle items from the tuple\n",
    "middle_items_tuple = slice_middle_items(food_stuff_tp)\n",
    "print(\"Middle item(s) from tuple:\", middle_items_tuple)\n",
    "\n",
    "# Slice middle items from the list\n",
    "middle_items_list = slice_middle_items(food_stuff_lt)\n",
    "print(\"Middle item(s) from list:\", middle_items_list)\n"
   ]
  },
  {
   "cell_type": "markdown",
   "metadata": {},
   "source": [
    "5. Slice out the first three items and the last three items from food_stuff_lt"
   ]
  },
  {
   "cell_type": "code",
   "execution_count": 14,
   "metadata": {},
   "outputs": [
    {
     "name": "stdout",
     "output_type": "stream",
     "text": [
      "First three items: ['orange', 'banana', 'cherry']\n",
      "Last three items: ['eggs', 'cheese', 'yogurt']\n"
     ]
    }
   ],
   "source": [
    "# Tuples for fruits, vegetables, and animal products\n",
    "fruits = (\"orange\", \"banana\", \"cherry\", \"pawpaw\")\n",
    "vegetables = (\"carrot\", \"spinach\", \"potato\", \"lettuce\")\n",
    "animal_products = (\"milk\", \"eggs\", \"cheese\", \"yogurt\")\n",
    "\n",
    "# Join the three tuples\n",
    "food_stuff_tp = fruits + vegetables + animal_products\n",
    "\n",
    "# Convert the tuple to a list\n",
    "food_stuff_lt = list(food_stuff_tp)\n",
    "\n",
    "# Slice the first three items\n",
    "first_three_items = food_stuff_lt[:3]\n",
    "\n",
    "# Slice the last three items\n",
    "last_three_items = food_stuff_lt[-3:]\n",
    "\n",
    "# Print the results\n",
    "print(\"First three items:\", first_three_items)\n",
    "print(\"Last three items:\", last_three_items)\n"
   ]
  },
  {
   "cell_type": "markdown",
   "metadata": {},
   "source": [
    "6. Delete the food_stuff_tp tuple completely"
   ]
  },
  {
   "cell_type": "code",
   "execution_count": 2,
   "metadata": {},
   "outputs": [
    {
     "name": "stdout",
     "output_type": "stream",
     "text": [
      "The tuple 'food_stuff_tp' has been deleted.\n"
     ]
    }
   ],
   "source": [
    "# Tuples for fruits, vegetables, and animal products\n",
    "fruits = (\"orange\", \"banana\", \"cherry\", \"pawpaw\")\n",
    "vegetables = (\"carrot\", \"spinach\", \"potato\", \"lettuce\")\n",
    "animal_products = (\"milk\", \"eggs\", \"cheese\", \"yogurt\")\n",
    "\n",
    "# Join the three tuples\n",
    "food_stuff_tp = fruits + vegetables + animal_products\n",
    "\n",
    "# Delete the food_stuff_tp tuple completely\n",
    "del food_stuff_tp\n",
    "\n",
    "# Trying to print food_stuff_tp now will raise an error because it has been deleted\n",
    "try:\n",
    "    print(food_stuff_tp)\n",
    "except NameError:\n",
    "    print(\"The tuple 'food_stuff_tp' has been deleted.\")\n"
   ]
  },
  {
   "cell_type": "markdown",
   "metadata": {},
   "source": [
    "7. Check if an item exits in food_stuff_tp"
   ]
  },
  {
   "cell_type": "code",
   "execution_count": 3,
   "metadata": {},
   "outputs": [
    {
     "name": "stdout",
     "output_type": "stream",
     "text": [
      "Does 'banana' exist in food_stuff_tp? True\n"
     ]
    }
   ],
   "source": [
    "# Tuples for fruits, vegetables, and animal products\n",
    "fruits = (\"orange\", \"banana\", \"cherry\", \"pawpaw\")\n",
    "vegetables = (\"carrot\", \"spinach\", \"potato\", \"lettuce\")\n",
    "animal_products = (\"milk\", \"eggs\", \"cheese\", \"yogurt\")\n",
    "\n",
    "# Join the three tuples\n",
    "food_stuff_tp = fruits + vegetables + animal_products\n",
    "\n",
    "# Check if an item exists in the tuple\n",
    "item_to_check = \"banana\"\n",
    "\n",
    "# Use 'in' keyword to check if the item exists\n",
    "item_exists = item_to_check in food_stuff_tp\n",
    "\n",
    "# Print the result\n",
    "print(f\"Does '{item_to_check}' exist in food_stuff_tp? {item_exists}\")\n"
   ]
  },
  {
   "cell_type": "markdown",
   "metadata": {},
   "source": [
    "8. Check if 'Estonia' is a nordic country"
   ]
  },
  {
   "cell_type": "code",
   "execution_count": 4,
   "metadata": {},
   "outputs": [
    {
     "name": "stdout",
     "output_type": "stream",
     "text": [
      "Is Estonia a Nordic country? False\n"
     ]
    }
   ],
   "source": [
    "# List of Nordic countries\n",
    "nordic_countries = [\"Denmark\", \"Finland\", \"Iceland\", \"Norway\", \"Sweden\"]\n",
    "\n",
    "# Country to check\n",
    "country_to_check = \"Estonia\"\n",
    "\n",
    "# Check if the country is in the list of Nordic countries\n",
    "is_nordic = country_to_check in nordic_countries\n",
    "\n",
    "# Print the result\n",
    "print(f\"Is {country_to_check} a Nordic country? {is_nordic}\")\n"
   ]
  },
  {
   "cell_type": "markdown",
   "metadata": {},
   "source": [
    "9. Check if Iceland is a nordic country"
   ]
  },
  {
   "cell_type": "code",
   "execution_count": 5,
   "metadata": {},
   "outputs": [
    {
     "name": "stdout",
     "output_type": "stream",
     "text": [
      "Is Iceland a Nordic country? True\n"
     ]
    }
   ],
   "source": [
    "# List of Nordic countries\n",
    "nordic_countries = [\"Denmark\", \"Finland\", \"Iceland\", \"Norway\", \"Sweden\"]\n",
    "\n",
    "# Country to check\n",
    "country_to_check = \"Iceland\"\n",
    "\n",
    "# Check if the country is in the list of Nordic countries\n",
    "is_nordic = country_to_check in nordic_countries\n",
    "\n",
    "# Print the result\n",
    "print(f\"Is {country_to_check} a Nordic country? {is_nordic}\")\n"
   ]
  },
  {
   "cell_type": "markdown",
   "metadata": {},
   "source": [
    "# Set Exercises: Level 1"
   ]
  },
  {
   "cell_type": "markdown",
   "metadata": {},
   "source": [
    "1. find the length of the set it_companies"
   ]
  },
  {
   "cell_type": "code",
   "execution_count": 6,
   "metadata": {},
   "outputs": [
    {
     "name": "stdout",
     "output_type": "stream",
     "text": [
      "Length of the set it_companies: 6\n"
     ]
    }
   ],
   "source": [
    "it_companies= ['Facebook', 'Google','Microsoft', 'Apple', 'IBM','oracle']\n",
    "\n",
    "# Find the length of the set\n",
    "length_of_it_companies = len(it_companies)\n",
    "\n",
    "# Print the length\n",
    "print(\"Length of the set it_companies:\", length_of_it_companies)\n",
    "\n"
   ]
  },
  {
   "cell_type": "markdown",
   "metadata": {},
   "source": [
    "2. Add 'Twitter' to it_companies"
   ]
  },
  {
   "cell_type": "code",
   "execution_count": 13,
   "metadata": {},
   "outputs": [
    {
     "name": "stdout",
     "output_type": "stream",
     "text": [
      "{'IBM', 'Microsoft', 'oracle', 'Apple', 'Google', 'Facebook', 'Twitter'}\n"
     ]
    }
   ],
   "source": [
    "it_companies= {'Facebook', 'Google','Microsoft', 'Apple', 'IBM','oracle'}\n",
    "it_companies.add('Twitter')\n",
    "print( it_companies)"
   ]
  },
  {
   "cell_type": "markdown",
   "metadata": {},
   "source": [
    "3. Insert multiple IT companies at once to the set it_companies"
   ]
  },
  {
   "cell_type": "code",
   "execution_count": 1,
   "metadata": {},
   "outputs": [
    {
     "name": "stdout",
     "output_type": "stream",
     "text": [
      "Updated set of IT companies: {'IBM', 'LinkedIn', 'Oracle', 'Twitter', 'Hilma Acquarium', 'Amazon', 'Microsoft', 'Google', 'Facebook', 'Apple'}\n"
     ]
    }
   ],
   "source": [
    "# Define the set of IT companies\n",
    "it_companies = {\"Facebook\", \"Google\", \"Microsoft\", \"Apple\", \"IBM\", \"Oracle\", \"Twitter\"}\n",
    "\n",
    "# Add multiple IT companies to the set\n",
    "new_companies = {\"Amazon\", \"Hilma Acquarium\", \"LinkedIn\"}\n",
    "it_companies.update(new_companies)\n",
    "print(\"Updated set of IT companies:\", it_companies)\n"
   ]
  },
  {
   "cell_type": "markdown",
   "metadata": {},
   "source": [
    "4. Remove one of the companies from the set it_companies"
   ]
  },
  {
   "cell_type": "code",
   "execution_count": 2,
   "metadata": {},
   "outputs": [
    {
     "name": "stdout",
     "output_type": "stream",
     "text": [
      "{'Twitter', 'IBM', 'Microsoft', 'Google', 'Facebook', 'Apple'}\n"
     ]
    }
   ],
   "source": [
    "it_companies= {'Facebook', 'Google', 'Microsoft', 'Apple', 'IBM', 'Oracle', 'Twitter'}\n",
    "it_companies.remove('Oracle')\n",
    "print(it_companies)"
   ]
  },
  {
   "cell_type": "markdown",
   "metadata": {},
   "source": [
    "5. What is the differnce between remove and discard"
   ]
  },
  {
   "cell_type": "code",
   "execution_count": null,
   "metadata": {},
   "outputs": [],
   "source": []
  },
  {
   "cell_type": "markdown",
   "metadata": {},
   "source": [
    "# Set Exercises; Level 2"
   ]
  },
  {
   "cell_type": "markdown",
   "metadata": {},
   "source": [
    "1. Join A and B"
   ]
  },
  {
   "cell_type": "code",
   "execution_count": 5,
   "metadata": {},
   "outputs": [
    {
     "name": "stdout",
     "output_type": "stream",
     "text": [
      "{19, 20, 22, 24, 25, 26, 27, 28}\n"
     ]
    }
   ],
   "source": [
    "A= {19, 22,24, 20, 25, 26}\n",
    "B= {19, 22, 20, 25, 26, 24, 28, 27}\n",
    "# Join the sete\n",
    "print(A.union(B))\n",
    "\n"
   ]
  },
  {
   "cell_type": "markdown",
   "metadata": {},
   "source": [
    "2. Find A intersection B"
   ]
  },
  {
   "cell_type": "code",
   "execution_count": 3,
   "metadata": {},
   "outputs": [
    {
     "data": {
      "text/plain": [
       "{19, 20, 22, 24, 25, 26}"
      ]
     },
     "execution_count": 3,
     "metadata": {},
     "output_type": "execute_result"
    }
   ],
   "source": [
    "A= {19, 22, 24, 20, 25,26}\n",
    "B= {19, 22, 20, 25, 26, 24, 28, 27}\n",
    "A.intersection(B)"
   ]
  },
  {
   "cell_type": "markdown",
   "metadata": {},
   "source": [
    "3. Is A subset of B"
   ]
  },
  {
   "cell_type": "code",
   "execution_count": 7,
   "metadata": {},
   "outputs": [
    {
     "data": {
      "text/plain": [
       "True"
      ]
     },
     "execution_count": 7,
     "metadata": {},
     "output_type": "execute_result"
    }
   ],
   "source": [
    "A= {19, 22, 24, 20, 25,26}\n",
    "B= {19, 22, 20, 25, 26, 24, 28, 27}\n",
    "A.issubset(B)"
   ]
  },
  {
   "cell_type": "markdown",
   "metadata": {},
   "source": [
    "4. Are A and B disjoint sets"
   ]
  },
  {
   "cell_type": "code",
   "execution_count": 6,
   "metadata": {},
   "outputs": [
    {
     "data": {
      "text/plain": [
       "False"
      ]
     },
     "execution_count": 6,
     "metadata": {},
     "output_type": "execute_result"
    }
   ],
   "source": [
    "A= {19, 22, 24, 20, 25,26}\n",
    "B= {19, 22, 20, 25, 26, 24, 28, 27}\n",
    "A.isdisjoint(B)"
   ]
  },
  {
   "cell_type": "markdown",
   "metadata": {},
   "source": [
    "5. Join A with B and B with A"
   ]
  },
  {
   "cell_type": "code",
   "execution_count": 10,
   "metadata": {},
   "outputs": [
    {
     "name": "stdout",
     "output_type": "stream",
     "text": [
      "{19, 20, 22, 24, 25, 26, 27, 28}\n",
      "{19, 20, 22, 24, 25, 26, 27, 28}\n"
     ]
    }
   ],
   "source": [
    "A= {19, 22, 24, 20, 25,26}\n",
    "B= {19, 22, 20, 25, 26, 24, 28, 27}\n",
    "print(A.union(B))\n",
    "print(B.union(A))\n",
    "\n"
   ]
  },
  {
   "cell_type": "markdown",
   "metadata": {},
   "source": [
    "6. What is the symmetric difference between A anb B"
   ]
  },
  {
   "cell_type": "code",
   "execution_count": 11,
   "metadata": {},
   "outputs": [
    {
     "data": {
      "text/plain": [
       "{27, 28}"
      ]
     },
     "execution_count": 11,
     "metadata": {},
     "output_type": "execute_result"
    }
   ],
   "source": [
    "A= {19, 22, 24, 20, 25,26}\n",
    "B= {19, 22, 20, 25, 26, 24, 28, 27}\n",
    "A.symmetric_difference(B)"
   ]
  },
  {
   "cell_type": "markdown",
   "metadata": {},
   "source": [
    "7. Delete the sets completely"
   ]
  },
  {
   "cell_type": "code",
   "execution_count": 12,
   "metadata": {},
   "outputs": [],
   "source": [
    "A= {19, 22, 24, 20, 25,26}\n",
    "B= {19, 22, 20, 25, 26, 24, 28, 27}\n",
    "del A\n",
    "del B"
   ]
  },
  {
   "cell_type": "markdown",
   "metadata": {},
   "source": [
    "# Set Exercises: Level 3"
   ]
  },
  {
   "cell_type": "markdown",
   "metadata": {},
   "source": [
    "1. Convert the ages to a set and compare the length of the list and the set, which one is bigger"
   ]
  },
  {
   "cell_type": "code",
   "execution_count": 14,
   "metadata": {},
   "outputs": [
    {
     "name": "stdout",
     "output_type": "stream",
     "text": [
      "{19, 22, 24, 25, 26}\n"
     ]
    }
   ],
   "source": [
    "ages= [22, 19, 24, 25, 26, 24, 25, 24]\n",
    "ages= set(ages)\n",
    "print(ages)"
   ]
  },
  {
   "cell_type": "code",
   "execution_count": 15,
   "metadata": {},
   "outputs": [
    {
     "name": "stdout",
     "output_type": "stream",
     "text": [
      "Length of the list: 8\n",
      "Length of the set: 5\n",
      "Is the list longer than the set? True\n"
     ]
    }
   ],
   "source": [
    "ages = [22, 19, 24, 25, 26, 24, 25, 24]\n",
    "\n",
    "# Convert the list to a set\n",
    "ages_set = set(ages)\n",
    "# Compare the lengths\n",
    "length_of_list = len(ages)\n",
    "length_of_set = len(ages_set)\n",
    "print(\"Length of the list:\", length_of_list)\n",
    "print(\"Length of the set:\", length_of_set)\n",
    "print(\"Is the list longer than the set?\", length_of_list > length_of_set)\n"
   ]
  },
  {
   "cell_type": "markdown",
   "metadata": {},
   "source": [
    "2. Explain the difference between the following data types: string, list,tuple and set"
   ]
  },
  {
   "cell_type": "markdown",
   "metadata": {},
   "source": [
    "| String  | List  |  Tuple  |  Set  |\n",
    "|----------|----------|----------|----------|\n",
    "|"
   ]
  },
  {
   "cell_type": "markdown",
   "metadata": {},
   "source": []
  },
  {
   "cell_type": "markdown",
   "metadata": {},
   "source": []
  },
  {
   "cell_type": "markdown",
   "metadata": {},
   "source": []
  },
  {
   "cell_type": "code",
   "execution_count": null,
   "metadata": {},
   "outputs": [],
   "source": []
  },
  {
   "cell_type": "markdown",
   "metadata": {},
   "source": []
  },
  {
   "cell_type": "code",
   "execution_count": null,
   "metadata": {},
   "outputs": [],
   "source": []
  },
  {
   "cell_type": "markdown",
   "metadata": {},
   "source": [
    "4. "
   ]
  },
  {
   "cell_type": "markdown",
   "metadata": {},
   "source": [
    "1. "
   ]
  },
  {
   "cell_type": "markdown",
   "metadata": {},
   "source": []
  },
  {
   "cell_type": "markdown",
   "metadata": {},
   "source": []
  },
  {
   "cell_type": "markdown",
   "metadata": {},
   "source": []
  }
 ],
 "metadata": {
  "kernelspec": {
   "display_name": "base",
   "language": "python",
   "name": "python3"
  },
  "language_info": {
   "codemirror_mode": {
    "name": "ipython",
    "version": 3
   },
   "file_extension": ".py",
   "mimetype": "text/x-python",
   "name": "python",
   "nbconvert_exporter": "python",
   "pygments_lexer": "ipython3",
   "version": "3.12.3"
  }
 },
 "nbformat": 4,
 "nbformat_minor": 2
}

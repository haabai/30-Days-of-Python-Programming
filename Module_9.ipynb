{
 "cells": [
  {
   "cell_type": "markdown",
   "metadata": {},
   "source": [
    "## Exercises: Level 1"
   ]
  },
  {
   "cell_type": "markdown",
   "metadata": {},
   "source": [
    "1. Declare a function add_two_numbers. it takes two parameters and it returns a sum"
   ]
  },
  {
   "cell_type": "code",
   "execution_count": null,
   "metadata": {},
   "outputs": [],
   "source": [
    "def add_two_numbers(a, b):\n",
    "    return a + b"
   ]
  },
  {
   "cell_type": "markdown",
   "metadata": {},
   "source": [
    "2. Area of a circle is calculated as follows: area= pi x r x r. Write a function that calculates area_of_circle"
   ]
  },
  {
   "cell_type": "code",
   "execution_count": null,
   "metadata": {},
   "outputs": [],
   "source": [
    "import math\n",
    "def area_of_circle(radius):\n",
    "    return math.pi * radius ** 2"
   ]
  },
  {
   "cell_type": "markdown",
   "metadata": {},
   "source": [
    "3. Write a function called add_all_nums which takes arbitrary number of arguments and sums all arguments. Check if all the list items are number types. If not give a reasonable feedback.\n"
   ]
  },
  {
   "cell_type": "markdown",
   "metadata": {},
   "source": [
    "4. Temperature in C can be converted to F. Using this formular: F= (c*)"
   ]
  },
  {
   "cell_type": "markdown",
   "metadata": {},
   "source": [
    "5. Write a function called check-season, it takes a month parameter and returns the season:Autumn, Winter, Spring or summer"
   ]
  },
  {
   "cell_type": "code",
   "execution_count": 1,
   "metadata": {},
   "outputs": [
    {
     "name": "stdout",
     "output_type": "stream",
     "text": [
      "Winter\n",
      "Spring\n",
      "Summer\n",
      "Autumn\n"
     ]
    }
   ],
   "source": [
    "def check_season(month):\n",
    " #Dictionary mapping months to seasons\n",
    "    seasons = {'December': 'Winter', 'January': 'Winter', 'February': 'Winter',\n",
    "               'March': 'Spring', 'April': 'Spring', 'May': 'Spring',\n",
    "               'June': 'Summer', 'July': 'Summer', 'August': 'Summer',\n",
    "               'September': 'Autumn', 'October': 'Autumn', 'November': 'Autumn'}\n",
    "    #Get the season for the given month\n",
    "    return seasons.get(month, \"Invalid month\")\n",
    "print(check_season(\"December\"))\n",
    "print(check_season(\"March\"))\n",
    "print(check_season(\"June\"))\n",
    "print(check_season(\"September\"))\n",
    "\n",
    "    \n",
    "                         \n",
    "    "
   ]
  },
  {
   "cell_type": "markdown",
   "metadata": {},
   "source": [
    "6. Write a function called calculate_slope which return the slope of a linear equation"
   ]
  },
  {
   "cell_type": "code",
   "execution_count": 1,
   "metadata": {},
   "outputs": [
    {
     "name": "stdout",
     "output_type": "stream",
     "text": [
      "1.0\n",
      "Undefined (vertical line)\n"
     ]
    }
   ],
   "source": [
    "def calculate_slope(x1, y1, x2, y2):\n",
    "    if x2 - x1 == 0:\n",
    "        return \"Undefined (vertical line)\"\n",
    "    slope = (y2 - y1) / (x2 - x1)\n",
    "    return slope\n",
    "print(calculate_slope(1, 2, 3, 4))\n",
    "print(calculate_slope(4, 5, 4, 7))  \n"
   ]
  },
  {
   "cell_type": "markdown",
   "metadata": {},
   "source": [
    "7. Quadratic equation is calculated as follows: ax**2 +bx + c =0. Write a function which calculates solution set of a quadratic equation, solve_quadratic_eqn."
   ]
  },
  {
   "cell_type": "code",
   "execution_count": 2,
   "metadata": {},
   "outputs": [
    {
     "name": "stdout",
     "output_type": "stream",
     "text": [
      "(2.0, 1.0)\n",
      "(-1.0,)\n",
      "No real solutions\n"
     ]
    }
   ],
   "source": [
    "import math\n",
    "\n",
    "def solve_quadratic_eqn(a, b, c):\n",
    "    # Calculate the discriminant\n",
    "    discriminant = b**2 - 4*a*c\n",
    "\n",
    "    # Check if the discriminant is negative, zero, or positive\n",
    "    if discriminant < 0:\n",
    "        return \"No real solutions\"\n",
    "    elif discriminant == 0:\n",
    "        # One real solution\n",
    "        x = -b / (2*a)\n",
    "        return (x,)\n",
    "    else:\n",
    "        # Two real solutions\n",
    "        x1 = (-b + math.sqrt(discriminant)) / (2*a)\n",
    "        x2 = (-b - math.sqrt(discriminant)) / (2*a)\n",
    "        return (x1, x2)\n",
    "print(solve_quadratic_eqn(1, -3, 2))  \n",
    "print(solve_quadratic_eqn(1, 2, 1))   \n",
    "print(solve_quadratic_eqn(1, 0, 1))   \n"
   ]
  },
  {
   "cell_type": "markdown",
   "metadata": {},
   "source": [
    "8. Declare a function named print_list. It takes a list as a parameter and it prints out each element of the list."
   ]
  },
  {
   "cell_type": "code",
   "execution_count": 3,
   "metadata": {},
   "outputs": [],
   "source": [
    "def print_list(input_list):\n",
    "    for element in input_list:\n",
    "        print(element)\n"
   ]
  },
  {
   "cell_type": "markdown",
   "metadata": {},
   "source": [
    "9. Declare a function named reverse_list. It takes an array as a parameter and it returns the reverse of the array (use loop)"
   ]
  },
  {
   "cell_type": "code",
   "execution_count": 8,
   "metadata": {},
   "outputs": [],
   "source": [
    "def reverse_list(input_array):\n",
    "    reverse_array= []\n",
    "    for i in range(len(input_array)-1, -1, -1):\n",
    "        reverse_list.append(input_array[i])\n",
    "    return reverse_array"
   ]
  },
  {
   "cell_type": "markdown",
   "metadata": {},
   "source": [
    "10. Declare a function named capitalize_list_items. It takes a list as a parameter and it returns a capitalized list of items."
   ]
  },
  {
   "cell_type": "code",
   "execution_count": 11,
   "metadata": {},
   "outputs": [],
   "source": [
    "def capitalize_list_items(input_list):\n",
    "    capitalized_liat= [item.capitalize() for item in input_list]\n",
    "    return capitalized_liat"
   ]
  },
  {
   "cell_type": "markdown",
   "metadata": {},
   "source": [
    "11. Declare a function named add_item. It takes a list and an item parameters. It returns a list with the item added at the end"
   ]
  },
  {
   "cell_type": "code",
   "execution_count": 12,
   "metadata": {},
   "outputs": [
    {
     "name": "stdout",
     "output_type": "stream",
     "text": [
      "['banana', 'orange', 'mango', 'lemon', 'apple']\n"
     ]
    }
   ],
   "source": [
    "def add_item(input_list, item):\n",
    "    input_list.append(item)\n",
    "    return input_list\n",
    "\n",
    "# Example usage\n",
    "fruits = ['banana', 'orange', 'mango', 'lemon']\n",
    "new_fruit = 'apple'\n",
    "updated_fruits = add_item(fruits, new_fruit)\n",
    "print(updated_fruits)  \n"
   ]
  },
  {
   "cell_type": "markdown",
   "metadata": {},
   "source": [
    "12. Declare a function named remove_item. It takes a list and an item parameters. It returns a list with the item removed from it"
   ]
  },
  {
   "cell_type": "code",
   "execution_count": 13,
   "metadata": {},
   "outputs": [
    {
     "name": "stdout",
     "output_type": "stream",
     "text": [
      "['banana', 'mango', 'lemon']\n"
     ]
    }
   ],
   "source": [
    "def remove_item(input_list, item):\n",
    "    input_list.remove(item)\n",
    "    return input_list\n",
    "# Example usage\n",
    "fruits = ['banana', 'orange', 'mango', 'lemon']\n",
    "fruit_to_remove = 'orange'\n",
    "updated_fruits = remove_item(fruits, fruit_to_remove)\n",
    "print(updated_fruits)"
   ]
  },
  {
   "cell_type": "markdown",
   "metadata": {},
   "source": [
    "13. Declare a function named sum_of_numbers. It takes a number parameter and it add all the numbers in that range"
   ]
  },
  {
   "cell_type": "code",
   "execution_count": 14,
   "metadata": {},
   "outputs": [
    {
     "name": "stdout",
     "output_type": "stream",
     "text": [
      "15\n",
      "55\n",
      "5050\n"
     ]
    }
   ],
   "source": [
    "def sum_of_numbers(n):\n",
    "    total_sum = 0\n",
    "    for i in range(n + 1):\n",
    "        total_sum += i\n",
    "    return total_sum\n",
    "\n",
    "# Example usage\n",
    "print(sum_of_numbers(5))  \n",
    "print(sum_of_numbers(10))\n",
    "print(sum_of_numbers(100))   \n"
   ]
  },
  {
   "cell_type": "markdown",
   "metadata": {},
   "source": [
    "14. Declare a function named sum_of_odds. It takes a number parameter and it add all the odd numbers in that range"
   ]
  },
  {
   "cell_type": "code",
   "execution_count": 15,
   "metadata": {},
   "outputs": [
    {
     "name": "stdout",
     "output_type": "stream",
     "text": [
      "9\n",
      "25\n",
      "2500\n"
     ]
    }
   ],
   "source": [
    "def sum_of_odds(n):\n",
    "    total_sum = 0\n",
    "    for i in range(n + 1):\n",
    "        if i % 2 != 0:  # Check if the number is odd\n",
    "            total_sum += i\n",
    "    return total_sum\n",
    "\n",
    "# Example usage\n",
    "print(sum_of_odds(5))  \n",
    "print(sum_of_odds(10)) \n",
    "print(sum_of_odds(100)) \n"
   ]
  },
  {
   "cell_type": "markdown",
   "metadata": {},
   "source": [
    "15. Declare a function named sum_of_even. It takes a number parameter and it add the even numbers in that range"
   ]
  },
  {
   "cell_type": "code",
   "execution_count": 17,
   "metadata": {},
   "outputs": [
    {
     "name": "stdout",
     "output_type": "stream",
     "text": [
      "6\n",
      "30\n",
      "2550\n"
     ]
    }
   ],
   "source": [
    "def sum_of_even(n):\n",
    "    total_sum = 0\n",
    "    for i in range(n + 1):\n",
    "        if i % 2 == 0:  # Check if the number is even\n",
    "            total_sum += i\n",
    "    return total_sum\n",
    "\n",
    "# Example usage\n",
    "print(sum_of_even(5))  \n",
    "print(sum_of_even(10))\n",
    "print(sum_of_even(100))   \n"
   ]
  },
  {
   "cell_type": "markdown",
   "metadata": {},
   "source": [
    "## Exercices: Level 2"
   ]
  },
  {
   "cell_type": "markdown",
   "metadata": {},
   "source": [
    "1. Declare a function named evens_and_odds. It takes a positive integer as parameter and it counts number od evens and odds in the number"
   ]
  },
  {
   "cell_type": "code",
   "execution_count": 25,
   "metadata": {},
   "outputs": [
    {
     "name": "stdout",
     "output_type": "stream",
     "text": [
      "Number of even numbers: 4. Number of odd numbers: 5\n"
     ]
    }
   ],
   "source": [
    "def evens_and_odds(number):\n",
    "    even_count = 0\n",
    "    odd_count = 0\n",
    "    \n",
    "    for digit in str(number):\n",
    "        if int(digit) % 2 == 0:\n",
    "            even_count += 1\n",
    "        else:\n",
    "            odd_count += 1\n",
    "    \n",
    "    return even_count, odd_count\n",
    "\n",
    "# Example usage\n",
    "number= 123456789\n",
    "even, odd = evens_and_odds(number)\n",
    "print(f\"Number of even numbers: {even}. Number of odd numbers: {odd}\")\n",
    "\n"
   ]
  },
  {
   "cell_type": "markdown",
   "metadata": {},
   "source": [
    "2. Call your function factorial, it takes a whole number as a parameter and it returns a factorial of the number"
   ]
  },
  {
   "cell_type": "code",
   "execution_count": 26,
   "metadata": {},
   "outputs": [
    {
     "name": "stdout",
     "output_type": "stream",
     "text": [
      "120\n",
      "6\n",
      "362880\n"
     ]
    }
   ],
   "source": [
    "def factorial(n):\n",
    "    if n == 0 or n == 1:\n",
    "        return 1\n",
    "    else:\n",
    "        result = 1\n",
    "        for i in range(2, n + 1):\n",
    "            result *= i\n",
    "        return result\n",
    "\n",
    "# Example usage\n",
    "print(factorial(5))  \n",
    "print(factorial(3))  \n",
    "print(factorial(9))  \n"
   ]
  },
  {
   "cell_type": "markdown",
   "metadata": {},
   "source": [
    "3. Call your function is_empty, it takes a parameter and it checks if it is empty or not"
   ]
  },
  {
   "cell_type": "code",
   "execution_count": 27,
   "metadata": {},
   "outputs": [
    {
     "name": "stdout",
     "output_type": "stream",
     "text": [
      "True\n",
      "True\n",
      "True\n",
      "False\n",
      "False\n"
     ]
    }
   ],
   "source": [
    "def is_empty(parameter):\n",
    "    if not parameter:\n",
    "        return True\n",
    "    return False\n",
    "\n",
    "# Example usage\n",
    "print(is_empty([]))  \n",
    "print(is_empty({}))  \n",
    "print(is_empty(''))\n",
    "print(is_empty([1, 2, 3]))  \n",
    "print(is_empty('python'))  \n"
   ]
  },
  {
   "cell_type": "markdown",
   "metadata": {},
   "source": [
    "4. Write different functions which take lists. they should calculate_mean, calculate_median, calculate_mode, calculate_range, calculate_variance, calculate_std (standard deviation)"
   ]
  },
  {
   "cell_type": "code",
   "execution_count": 30,
   "metadata": {},
   "outputs": [
    {
     "name": "stdout",
     "output_type": "stream",
     "text": [
      "Mean: 5.8\n",
      "Median: 5.5\n",
      "Mode: 10\n",
      "Range: 9\n",
      "Variance: 12.76\n",
      "Standard Deviation: 3.57211421989835\n"
     ]
    }
   ],
   "source": [
    "from collections import Counter\n",
    "import math\n",
    "\n",
    "def calculate_mean(numbers):\n",
    "    return sum(numbers) / len(numbers)\n",
    "\n",
    "def calculate_median(numbers):\n",
    "    numbers.sort()\n",
    "    n = len(numbers)\n",
    "    mid = n // 2\n",
    "    if n % 2 == 0:\n",
    "        return (numbers[mid - 1] + numbers[mid]) / 2\n",
    "    else:\n",
    "        return numbers[mid]\n",
    "\n",
    "def calculate_mode(numbers):\n",
    "    counts = Counter(numbers)\n",
    "    max_count = max(counts.values())\n",
    "    modes = [num for num, count in counts.items() if count == max_count]\n",
    "    return modes if len(modes) > 1 else modes[0]\n",
    "\n",
    "def calculate_range(numbers):\n",
    "    return max(numbers) - min(numbers)\n",
    "\n",
    "def calculate_variance(numbers):\n",
    "    mean = calculate_mean(numbers)\n",
    "    return sum((x - mean) ** 2 for x in numbers) / len(numbers)\n",
    "\n",
    "def calculate_std(numbers):\n",
    "    variance = calculate_variance(numbers)\n",
    "    return math.sqrt(variance)\n",
    "\n",
    "# Example usage\n",
    "numbers = [1, 2, 2, 3, 4, 7, 9, 10, 10, 10]\n",
    "\n",
    "print(f\"Mean: {calculate_mean(numbers)}\")  \n",
    "print(f\"Median: {calculate_median(numbers)}\")  \n",
    "print(f\"Mode: {calculate_mode(numbers)}\")  \n",
    "print(f\"Range: {calculate_range(numbers)}\")  \n",
    "print(f\"Variance: {calculate_variance(numbers)}\")\n",
    "print(f\"Standard Deviation: {calculate_std(numbers)}\")\n"
   ]
  },
  {
   "cell_type": "markdown",
   "metadata": {},
   "source": [
    "## Exercises: Level 3"
   ]
  },
  {
   "cell_type": "markdown",
   "metadata": {},
   "source": [
    "1. Write a function called is_prime, which checks if a number is prime"
   ]
  },
  {
   "cell_type": "code",
   "execution_count": 1,
   "metadata": {},
   "outputs": [
    {
     "name": "stdout",
     "output_type": "stream",
     "text": [
      "True\n",
      "False\n"
     ]
    }
   ],
   "source": [
    "def is_prime(n):\n",
    "    if n <= 1:\n",
    "        return False\n",
    "    for i in range(2, int(n ** 0.5) + 1):\n",
    "        if n % i == 0:\n",
    "            return False\n",
    "    return True\n",
    "# Example usage\n",
    "print(is_prime(11))\n",
    "print(is_prime(4))"
   ]
  },
  {
   "cell_type": "markdown",
   "metadata": {},
   "source": [
    "2. Write a function which checks if all items are unique in the list"
   ]
  },
  {
   "cell_type": "code",
   "execution_count": 2,
   "metadata": {},
   "outputs": [
    {
     "name": "stdout",
     "output_type": "stream",
     "text": [
      "True\n",
      "False\n"
     ]
    }
   ],
   "source": [
    "def all_unique(input_list):\n",
    "    return len(input_list) == len(set(input_list))\n",
    "\n",
    "# Example usage\n",
    "print(all_unique([1, 2, 3, 4, 5])) \n",
    "print(all_unique([1, 2, 2, 3, 4]))  \n"
   ]
  },
  {
   "cell_type": "markdown",
   "metadata": {},
   "source": [
    "3. Write a function which checks if all items of the list are of the same data type"
   ]
  },
  {
   "cell_type": "code",
   "execution_count": 3,
   "metadata": {},
   "outputs": [
    {
     "name": "stdout",
     "output_type": "stream",
     "text": [
      "True\n",
      "True\n",
      "False\n"
     ]
    }
   ],
   "source": [
    "def all_same_type(input_list):\n",
    "    if not input_list:\n",
    "        return True  # An empty list is considered to have items of the same type\n",
    "    first_type = type(input_list[0])\n",
    "    return all(isinstance(item, first_type) for item in input_list)\n",
    "\n",
    "# Example usage\n",
    "print(all_same_type([1, 2, 3, 4]))      \n",
    "print(all_same_type(['d', 'e', 'f']))   \n",
    "print(all_same_type([2, 'f', 3.1, True]))  \n"
   ]
  },
  {
   "cell_type": "markdown",
   "metadata": {},
   "source": [
    "4. Write a function which checks if provided variable is a valid python variable"
   ]
  },
  {
   "cell_type": "code",
   "execution_count": 4,
   "metadata": {},
   "outputs": [
    {
     "name": "stdout",
     "output_type": "stream",
     "text": [
      "True\n",
      "False\n",
      "False\n",
      "True\n"
     ]
    }
   ],
   "source": [
    "import keyword\n",
    "\n",
    "def is_valid_variable(variable_name):\n",
    "    if not variable_name.isidentifier():\n",
    "        return False\n",
    "    if keyword.iskeyword(variable_name):\n",
    "        return False\n",
    "    return True\n",
    "\n",
    "# Example usage\n",
    "print(is_valid_variable(\"var1\"))\n",
    "print(is_valid_variable(\"1var\"))  \n",
    "print(is_valid_variable(\"for\"))   \n",
    "print(is_valid_variable(\"var_2\")) \n"
   ]
  },
  {
   "cell_type": "markdown",
   "metadata": {},
   "source": [
    "5. Go to the data folder and access the countries-data.py file"
   ]
  },
  {
   "cell_type": "markdown",
   "metadata": {},
   "source": [
    "Create a function called the most_spoken_languages in the world. It should return 10 or 20 most spoken languages in the world in descending order"
   ]
  },
  {
   "cell_type": "markdown",
   "metadata": {},
   "source": [
    "## List comprehension exercises"
   ]
  },
  {
   "cell_type": "markdown",
   "metadata": {},
   "source": [
    "1. Filter only negative and zero in the list using list comprehension"
   ]
  },
  {
   "cell_type": "code",
   "execution_count": 8,
   "metadata": {},
   "outputs": [
    {
     "name": "stdout",
     "output_type": "stream",
     "text": [
      "[-4, -3, -2, -1, 0]\n"
     ]
    }
   ],
   "source": [
    "numbers = [-4, -3, -2, -1, 0, 2, 4, 6]\n",
    "\n",
    "negative_and_zero = [num for num in numbers if num <= 0]\n",
    "\n",
    "print(negative_and_zero)  \n"
   ]
  },
  {
   "cell_type": "markdown",
   "metadata": {},
   "source": [
    "2. Flatten the following list of lists to a dimensional list"
   ]
  },
  {
   "cell_type": "code",
   "execution_count": 9,
   "metadata": {},
   "outputs": [
    {
     "name": "stdout",
     "output_type": "stream",
     "text": [
      "[1, 2, 3, 4, 5, 6, 7, 8, 9]\n"
     ]
    }
   ],
   "source": [
    "list_of_lists = [[[1, 2, 3]], [[4, 5, 6]], [[7, 8, 9]]]\n",
    "\n",
    "flattened_list = [item for sublist1 in list_of_lists for sublist2 in sublist1 for item in sublist2]\n",
    "\n",
    "print(flattened_list) \n"
   ]
  },
  {
   "cell_type": "markdown",
   "metadata": {},
   "source": []
  },
  {
   "cell_type": "markdown",
   "metadata": {},
   "source": [
    "3. Using list comprehension, create the following list of tuples\n"
   ]
  },
  {
   "cell_type": "code",
   "execution_count": 10,
   "metadata": {},
   "outputs": [
    {
     "name": "stdout",
     "output_type": "stream",
     "text": [
      "[(0, 1, 0, 0, 0, 0, 0), (1, 1, 1, 1, 1, 1, 1), (2, 1, 2, 4, 8, 16, 32), (3, 1, 3, 9, 27, 81, 243), (4, 1, 4, 16, 64, 256, 1024), (5, 1, 5, 25, 125, 625, 3125), (6, 1, 6, 36, 216, 1296, 7776), (7, 1, 7, 49, 343, 2401, 16807), (8, 1, 8, 64, 512, 4096, 32768), (9, 1, 9, 81, 729, 6561, 59049), (10, 1, 10, 100, 1000, 10000, 100000)]\n"
     ]
    }
   ],
   "source": [
    "list_of_tuples = [(x, 1, x, x**2, x**3, x**4, x**5) for x in range(11)]\n",
    "\n",
    "print(list_of_tuples)\n"
   ]
  },
  {
   "cell_type": "markdown",
   "metadata": {},
   "source": [
    "4. Flatten the following list to a new list:  \n",
    "countries = [[('Finland', 'Helsinki')], [('Sweden', 'Stockholm')], [('Norway', 'Oslo)]]"
   ]
  },
  {
   "cell_type": "code",
   "execution_count": 1,
   "metadata": {},
   "outputs": [
    {
     "name": "stdout",
     "output_type": "stream",
     "text": [
      "[('Finland', 'Helsinki'), ('Sweden', 'Stockholm'), ('Norway', 'Oslo')]\n"
     ]
    }
   ],
   "source": [
    "countries = [[('Finland', 'Helsinki')], [('Sweden', 'Stockholm')], [('Norway', 'Oslo')]]\n",
    "\n",
    "flattened_countries = [item for sublist in countries for item in sublist]\n",
    "\n",
    "print(flattened_countries)\n"
   ]
  },
  {
   "cell_type": "markdown",
   "metadata": {},
   "source": [
    "5. Change the following list to a list of dictionaries:\n",
    "countries = [[('Finland', 'Helsinki')], [('Sweden', 'Stockholm')], [('Norway', 'Osl)]]"
   ]
  },
  {
   "cell_type": "code",
   "execution_count": 2,
   "metadata": {},
   "outputs": [
    {
     "name": "stdout",
     "output_type": "stream",
     "text": [
      "[{'country': 'Finland', 'capital': 'Helsinki'}, {'country': 'Sweden', 'capital': 'Stockholm'}, {'country': 'Norway', 'capital': 'Oslo'}]\n"
     ]
    }
   ],
   "source": [
    "countries = [[('Finland', 'Helsinki')], [('Sweden', 'Stockholm')], [('Norway', 'Oslo')]]\n",
    "\n",
    "list_of_dicts = [{'country': country, 'capital': capital} for sublist in countries for country, capital in sublist]\n",
    "\n",
    "print(list_of_dicts)\n"
   ]
  },
  {
   "cell_type": "markdown",
   "metadata": {},
   "source": []
  },
  {
   "cell_type": "markdown",
   "metadata": {},
   "source": [
    "6. Change the following list to a list of concatenated strings:\n",
    "names = [[('Asabeneh', 'Yetayeh')], [('David', 'Smith')], [('Donald', 'Trump')], [('Bill', 'Gates')]]\n"
   ]
  },
  {
   "cell_type": "code",
   "execution_count": 3,
   "metadata": {},
   "outputs": [
    {
     "name": "stdout",
     "output_type": "stream",
     "text": [
      "['Asabeneh Yetayeh', 'David Smith', 'Donald Trump', 'Bill Gates']\n"
     ]
    }
   ],
   "source": [
    "names = [[('Asabeneh', 'Yetayeh')], [('David', 'Smith')], [('Donald', 'Trump')], [('Bill', 'Gates')]]\n",
    "\n",
    "concatenated_names = [' '.join(name) for sublist in names for name in sublist]\n",
    "\n",
    "print(concatenated_names)\n"
   ]
  },
  {
   "cell_type": "markdown",
   "metadata": {},
   "source": [
    "7. Write a Lambda function which can solve a slope or y-intercept of linear functions"
   ]
  },
  {
   "cell_type": "code",
   "execution_count": 4,
   "metadata": {},
   "outputs": [
    {
     "name": "stdout",
     "output_type": "stream",
     "text": [
      "1.0\n"
     ]
    }
   ],
   "source": [
    "slope=lambda x1, y1, x2, y2: (y2-y1)/(x2-x1)\n",
    "print(slope(1, 2, 3, 4))"
   ]
  },
  {
   "cell_type": "code",
   "execution_count": 5,
   "metadata": {},
   "outputs": [
    {
     "name": "stdout",
     "output_type": "stream",
     "text": [
      "1.0\n"
     ]
    }
   ],
   "source": [
    "y_intercept=lambda x1, y1, x2, y2: y1 - slope(x1, y1, x2, y2) * x1\n",
    "print(y_intercept(1, 2, 3, 4))"
   ]
  },
  {
   "cell_type": "markdown",
   "metadata": {},
   "source": []
  }
 ],
 "metadata": {
  "kernelspec": {
   "display_name": "base",
   "language": "python",
   "name": "python3"
  },
  "language_info": {
   "codemirror_mode": {
    "name": "ipython",
    "version": 3
   },
   "file_extension": ".py",
   "mimetype": "text/x-python",
   "name": "python",
   "nbconvert_exporter": "python",
   "pygments_lexer": "ipython3",
   "version": "3.12.3"
  }
 },
 "nbformat": 4,
 "nbformat_minor": 2
}

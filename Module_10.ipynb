{
 "cells": [
  {
   "cell_type": "markdown",
   "metadata": {},
   "source": [
    "## Exercises: Level 1"
   ]
  },
  {
   "cell_type": "markdown",
   "metadata": {},
   "source": [
    "1. Explain the difference between map,filter and reduce"
   ]
  },
  {
   "cell_type": "code",
   "execution_count": 1,
   "metadata": {},
   "outputs": [
    {
     "name": "stdout",
     "output_type": "stream",
     "text": [
      "+---------------+------------------------------------------------+-----------------------------------------+--------------------------------------------------+\n",
      "| Feature       | map()                                          | filter()                                | reduce()                                         |\n",
      "+===============+================================================+=========================================+==================================================+\n",
      "| Purpose       | Applies a function to each item in an iterable | Selects items based on a condition      | Reduces an iterable to a single cumulative value |\n",
      "+---------------+------------------------------------------------+-----------------------------------------+--------------------------------------------------+\n",
      "| Returns       | A map object (an iterator)                     | A filter object (an iterator)           | A single value                                   |\n",
      "+---------------+------------------------------------------------+-----------------------------------------+--------------------------------------------------+\n",
      "| Syntax        | map(function, iterable)                        | filter(function, iterable)              | reduce(function, iterable)                       |\n",
      "+---------------+------------------------------------------------+-----------------------------------------+--------------------------------------------------+\n",
      "| Use Case      | Transformation                                 | Selection                               | Aggregation                                      |\n",
      "+---------------+------------------------------------------------+-----------------------------------------+--------------------------------------------------+\n",
      "| Example       | map(lambda x: x**2, [1, 2, 3])                 | filter(lambda x: x % 2 == 0, [1, 2, 3]) | reduce(lambda x, y: x + y, [1, 2, 3])            |\n",
      "+---------------+------------------------------------------------+-----------------------------------------+--------------------------------------------------+\n",
      "| Output        | [1, 4, 9]                                      | [2]                                     | 6                                                |\n",
      "+---------------+------------------------------------------------+-----------------------------------------+--------------------------------------------------+\n",
      "| Imported From | Built-in                                       | Built-in                                | from functools import reduce                     |\n",
      "+---------------+------------------------------------------------+-----------------------------------------+--------------------------------------------------+\n"
     ]
    }
   ],
   "source": [
    "from tabulate import tabulate\n",
    "\n",
    "data = [\n",
    "    [\"Feature\", \"map()\", \"filter()\", \"reduce()\"],\n",
    "    [\"Purpose\", \"Applies a function to each item in an iterable\", \"Selects items based on a condition\", \"Reduces an iterable to a single cumulative value\"],\n",
    "    [\"Returns\", \"A map object (an iterator)\", \"A filter object (an iterator)\", \"A single value\"],\n",
    "    [\"Syntax\", \"map(function, iterable)\", \"filter(function, iterable)\", \"reduce(function, iterable)\"],\n",
    "    [\"Use Case\", \"Transformation\", \"Selection\", \"Aggregation\"],\n",
    "    [\"Example\", \"map(lambda x: x**2, [1, 2, 3])\", \"filter(lambda x: x % 2 == 0, [1, 2, 3])\", \"reduce(lambda x, y: x + y, [1, 2, 3])\"],\n",
    "    [\"Output\", \"[1, 4, 9]\", \"[2]\", \"6\"],\n",
    "    [\"Imported From\", \"Built-in\", \"Built-in\", \"from functools import reduce\"]\n",
    "]\n",
    "\n",
    "print(tabulate(data, headers=\"firstrow\", tablefmt=\"grid\"))\n"
   ]
  },
  {
   "cell_type": "markdown",
   "metadata": {},
   "source": [
    "2. Explain the difference between higher order function,closure and decorator"
   ]
  },
  {
   "cell_type": "code",
   "execution_count": 3,
   "metadata": {},
   "outputs": [
    {
     "name": "stdout",
     "output_type": "stream",
     "text": [
      "+-----------+---------------------------------------------------------------------------------+---------------------------------------------------------------------------+---------------------------------------------------------------------------------------------------+\n",
      "| Feature   | Higher-Order Function                                                           | Closure                                                                   | Decorator                                                                                         |\n",
      "+===========+=================================================================================+===========================================================================+===================================================================================================+\n",
      "| Purpose   | A function that takes one or more functions as arguments, or returns a function | A function with an enclosed scope over the variables in its lexical scope | A special type of higher-order function used to modify or extend the behavior of another function |\n",
      "+-----------+---------------------------------------------------------------------------------+---------------------------------------------------------------------------+---------------------------------------------------------------------------------------------------+\n",
      "| Returns   | A function or result of applying the function                                   | A function with an enclosed environment                                   | A modified or extended function                                                                   |\n",
      "+-----------+---------------------------------------------------------------------------------+---------------------------------------------------------------------------+---------------------------------------------------------------------------------------------------+\n",
      "| Syntax    | def high_order(func):                                                           | def closure(x):                                                           | @decorator                                                                                        |\n",
      "|           |   def inner(x):                                                                 |   def inner():                                                            | def func():                                                                                       |\n",
      "|           |     return func(x)                                                              |     return x                                                              |   pass                                                                                            |\n",
      "|           |   return inner                                                                  |   return inner                                                            |                                                                                                   |\n",
      "+-----------+---------------------------------------------------------------------------------+---------------------------------------------------------------------------+---------------------------------------------------------------------------------------------------+\n",
      "| Use Case  | Function composition, callbacks                                                 | Preserving state in a function                                            | Modifying behavior of functions                                                                   |\n",
      "+-----------+---------------------------------------------------------------------------------+---------------------------------------------------------------------------+---------------------------------------------------------------------------------------------------+\n",
      "| Example   | def add(x):                                                                     | def outer(x):                                                             | def uppercase(func):                                                                              |\n",
      "|           |   return x + 2                                                                  |   def inner():                                                            |   def wrapper():                                                                                  |\n",
      "|           | map(add, [1, 2, 3])                                                             |     return x                                                              |     result = func()                                                                               |\n",
      "|           |                                                                                 |   return inner                                                            |     return result.upper()                                                                         |\n",
      "|           |                                                                                 |                                                                           |   return wrapper                                                                                  |\n",
      "|           |                                                                                 |                                                                           | @uppercase                                                                                        |\n",
      "|           |                                                                                 |                                                                           | def greet():                                                                                      |\n",
      "|           |                                                                                 |                                                                           |   return 'hello'                                                                                  |\n",
      "+-----------+---------------------------------------------------------------------------------+---------------------------------------------------------------------------+---------------------------------------------------------------------------------------------------+\n"
     ]
    }
   ],
   "source": [
    "from tabulate import tabulate\n",
    "\n",
    "data = [\n",
    "    [\"Feature\", \"Higher-Order Function\", \"Closure\", \"Decorator\"],\n",
    "    [\"Purpose\", \"A function that takes one or more functions as arguments, or returns a function\", \"A function with an enclosed scope over the variables in its lexical scope\", \"A special type of higher-order function used to modify or extend the behavior of another function\"],\n",
    "    [\"Returns\", \"A function or result of applying the function\", \"A function with an enclosed environment\", \"A modified or extended function\"],\n",
    "    [\"Syntax\", \n",
    "     \"def high_order(func):\\n  def inner(x):\\n    return func(x)\\n  return inner\", \n",
    "     \"def closure(x):\\n  def inner():\\n    return x\\n  return inner\", \n",
    "     \"@decorator\\ndef func():\\n  pass\"],\n",
    "    [\"Use Case\", \"Function composition, callbacks\", \"Preserving state in a function\", \"Modifying behavior of functions\"],\n",
    "    [\"Example\", \n",
    "     \"def add(x):\\n  return x + 2\\nmap(add, [1, 2, 3])\", \n",
    "     \"def outer(x):\\n  def inner():\\n    return x\\n  return inner\", \n",
    "     \"def uppercase(func):\\n  def wrapper():\\n    result = func()\\n    return result.upper()\\n  return wrapper\\n@uppercase\\ndef greet():\\n  return 'hello'\"]\n",
    "]\n",
    "\n",
    "print(tabulate(data, headers=\"firstrow\", tablefmt=\"grid\"))"
   ]
  },
  {
   "cell_type": "markdown",
   "metadata": {},
   "source": [
    "3. Define a call function before map, filter or reduce"
   ]
  },
  {
   "cell_type": "code",
   "execution_count": 4,
   "metadata": {},
   "outputs": [
    {
     "name": "stdout",
     "output_type": "stream",
     "text": [
      "[1, 4, 9, 16, 25]\n"
     ]
    }
   ],
   "source": [
    "#Example with map()\n",
    "# Define the function to be used with map\n",
    "def square(x):\n",
    "    return x ** 2\n",
    "\n",
    "# Use map with the defined function\n",
    "numbers = [1, 2, 3, 4, 5]\n",
    "squared_numbers = map(square, numbers)\n",
    "print(list(squared_numbers))  \n"
   ]
  },
  {
   "cell_type": "code",
   "execution_count": 5,
   "metadata": {},
   "outputs": [
    {
     "name": "stdout",
     "output_type": "stream",
     "text": [
      "[2, 4]\n"
     ]
    }
   ],
   "source": [
    "# Example with filter()\n",
    "# Define the function to be used with filter\n",
    "def is_even(x):\n",
    "    return x % 2 == 0\n",
    "\n",
    "# Use filter with the defined function\n",
    "numbers = [1, 2, 3, 4, 5]\n",
    "even_numbers = filter(is_even, numbers)\n",
    "print(list(even_numbers))  \n"
   ]
  },
  {
   "cell_type": "code",
   "execution_count": 6,
   "metadata": {},
   "outputs": [
    {
     "name": "stdout",
     "output_type": "stream",
     "text": [
      "15\n"
     ]
    }
   ],
   "source": [
    "# Example with reduce()\n",
    "from functools import reduce\n",
    "\n",
    "# Define the function to be used with reduce\n",
    "def add(x, y):\n",
    "    return x + y\n",
    "\n",
    "# Use reduce with the defined function\n",
    "numbers = [1, 2, 3, 4, 5]\n",
    "sum_of_numbers = reduce(add, numbers)\n",
    "print(sum_of_numbers)  \n"
   ]
  },
  {
   "cell_type": "markdown",
   "metadata": {},
   "source": [
    "4. Use for loop to print each country in the countries list"
   ]
  },
  {
   "cell_type": "code",
   "execution_count": null,
   "metadata": {},
   "outputs": [],
   "source": [
    "country="
   ]
  }
 ],
 "metadata": {
  "kernelspec": {
   "display_name": "base",
   "language": "python",
   "name": "python3"
  },
  "language_info": {
   "codemirror_mode": {
    "name": "ipython",
    "version": 3
   },
   "file_extension": ".py",
   "mimetype": "text/x-python",
   "name": "python",
   "nbconvert_exporter": "python",
   "pygments_lexer": "ipython3",
   "version": "3.12.3"
  }
 },
 "nbformat": 4,
 "nbformat_minor": 2
}

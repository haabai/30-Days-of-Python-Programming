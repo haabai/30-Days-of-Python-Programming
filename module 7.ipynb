{
 "cells": [
  {
   "cell_type": "markdown",
   "metadata": {},
   "source": [
    "# Exercises: Level 1"
   ]
  },
  {
   "cell_type": "markdown",
   "metadata": {},
   "source": [
    "1. Get user input using input(\"Enter your age: \"). if user is 18 or older give, feedback: You are old enough to drive. If below 18 , give feedback to wait for the missing amount of years."
   ]
  },
  {
   "cell_type": "code",
   "execution_count": 3,
   "metadata": {},
   "outputs": [
    {
     "name": "stdout",
     "output_type": "stream",
     "text": [
      "You are old enough to drive\n"
     ]
    }
   ],
   "source": [
    "#get user input for age\n",
    "age= int(input(\"Enter your age: \"))\n",
    "#check if the user is 18 or older\n",
    "if age >= 18:\n",
    "    print(\"You are old enough to drive\")\n",
    "else:\n",
    "    print(\"Wait for the missing amount of years\")"
   ]
  },
  {
   "cell_type": "markdown",
   "metadata": {},
   "source": [
    "2. Compare the values of my_age and your_age using if...else. Who is older (me or you)? Use input (\"Enter your age: \") to get the age as input. You can use a nested condition to print 'year' for 1 year difference in age, 'years' for bigger differences and a custom text if my_age= your_age. Output:"
   ]
  },
  {
   "cell_type": "code",
   "execution_count": 2,
   "metadata": {},
   "outputs": [
    {
     "name": "stdout",
     "output_type": "stream",
     "text": [
      "You are older than me by 5 years\n"
     ]
    }
   ],
   "source": [
    "#Define your age\n",
    "my_age= 25\n",
    "#Get the user's age as input\n",
    "your_age = int(input(\"Enter your age: \"))\n",
    "\n",
    "#Compare ages using if-else statements\n",
    "if your_age > my_age:\n",
    "    difference = your_age - my_age\n",
    "    if difference == 1:\n",
    "        print(\"You are older than me by 1 year\")\n",
    "    else:\n",
    "        print(f\"You are older than me by {difference} years\")\n",
    "elif your_age < my_age:\n",
    "    difference = my_age - your_age\n",
    "    if difference == 1:\n",
    "        print(\"I am older than you by 1 year\")\n",
    "    else:\n",
    "        print(f\"I am older than you by {difference} years\")\n",
    "else:\n",
    "   print(\"We are the same age\") \n",
    "    \n"
   ]
  },
  {
   "cell_type": "markdown",
   "metadata": {},
   "source": [
    "3. Get two numbers from the user using input prompt. If a is greater than b return a is greater than b, if a is less than b, return a is smaller than b, else a is equal to b. Output:"
   ]
  },
  {
   "cell_type": "code",
   "execution_count": 3,
   "metadata": {},
   "outputs": [
    {
     "name": "stdout",
     "output_type": "stream",
     "text": [
      "4.0 is greater than 3.0\n"
     ]
    }
   ],
   "source": [
    "#Get two numbers from the user\n",
    "a = float(input(\"Enter first number (a): \"))\n",
    "b = float(input(\"Enter second number((b)): \"))\n",
    "#Compare the numbers\n",
    "if a > b:\n",
    "    print(f\"{a} is greater than {b}\")\n",
    "elif a < b:\n",
    "    print(f\"{a} is less than {b}\")\n",
    "else:\n",
    "    print(f\"{a} is equal to {b}\")\n",
    "    "
   ]
  },
  {
   "cell_type": "markdown",
   "metadata": {},
   "source": [
    "## Exercises: Level 2"
   ]
  },
  {
   "cell_type": "markdown",
   "metadata": {},
   "source": [
    "1. Write a code which gives grade to students according to their scores:"
   ]
  },
  {
   "cell_type": "code",
   "execution_count": 4,
   "metadata": {},
   "outputs": [
    {
     "name": "stdout",
     "output_type": "stream",
     "text": [
      "Adamu scored 94 and received a grade of A\n",
      "Maryam scored 85 and received a grade of B\n",
      "Charlie scored 72 and received a grade of C\n",
      "Mahmud scored 65 and received a grade of D\n",
      "Helen scored 58 and received a grade of F\n"
     ]
    }
   ],
   "source": [
    "# Function to determine the grade based on score\n",
    "def determine_grade(score):\n",
    "    if score >= 90:\n",
    "        return 'A'\n",
    "    elif score >= 80:\n",
    "        return 'B'\n",
    "    elif score >= 70:\n",
    "        return 'C'\n",
    "    elif score >= 60:\n",
    "        return 'D'\n",
    "    else:\n",
    "        return 'F'\n",
    "    # List of students and their scores\n",
    "students_scores = {94: \"Adamu\", 85: \"Maryam\", 72: \"Charlie\", 65: \"Mahmud\", 58: \"Helen\"}\n",
    "# Print each student's name and their grade\n",
    "for score, name in students_scores.items():\n",
    "    grade = determine_grade(score)\n",
    "    print(f\"{name} scored {score} and received a grade of {grade}\")"
   ]
  },
  {
   "cell_type": "markdown",
   "metadata": {},
   "source": [
    "2. Check if the weather is Autumn, Winter, Spring or Summer. If the user input is: September, October or November, the season is Autumn. December, January or February, the season is Winter. March, April or May, the season is Spring. June, July or August, the season is Summer."
   ]
  },
  {
   "cell_type": "code",
   "execution_count": 5,
   "metadata": {},
   "outputs": [
    {
     "name": "stdout",
     "output_type": "stream",
     "text": [
      "It's spring!\n"
     ]
    }
   ],
   "source": [
    "# Get the month input from the user\n",
    "month = input(\"Enter the month: \").strip()\n",
    "# Determine the season based on the month\n",
    "if month.strip() in [\"december\", \"january\", \"february\"]:\n",
    "    print(\"It's winter!\")\n",
    "elif month.strip() in [\"march\", \"april\", \"may\"]:\n",
    "    print(\"It's spring!\")\n",
    "elif month.strip() in [\"june\", \"july\", \"august\"]:\n",
    "    print(\"It's summer!\")\n",
    "elif month.strip() in [\"september\", \"october\", \"november\"]:\n",
    "    print(\"It's autumn!\")\n",
    "else:\n",
    "    print(\"Invalid month entered.\")\n",
    "    "
   ]
  },
  {
   "cell_type": "markdown",
   "metadata": {},
   "source": [
    "3. The following list contains some fruits:\n"
   ]
  },
  {
   "cell_type": "code",
   "execution_count": 6,
   "metadata": {},
   "outputs": [
    {
     "name": "stdout",
     "output_type": "stream",
     "text": [
      "tangerine has been added to the list.\n",
      "Updated list of fruits: ['apple', 'banana', 'strawberry', 'orange', 'grape', 'tangerine']\n"
     ]
    }
   ],
   "source": [
    "# Define the initial list of fruits\n",
    "fruits = [\"apple\", \"banana\", \"strawberry\", \"orange\", \"grape\"]\n",
    "# Get user input for the fruit to be added\n",
    "new_fruit = input(\"Enter the name of the fruit: \").strip().lower()\n",
    "# Check if the fruit exists in the list\n",
    "if new_fruit in fruits:\n",
    "    print(f\"{new_fruit} is already in the list.\")\n",
    "else:\n",
    "    fruits.append(new_fruit)\n",
    "    print(f\"{new_fruit} has been added to the list.\")\n",
    "    print(\"Updated list of fruits:\", fruits)\n"
   ]
  },
  {
   "cell_type": "markdown",
   "metadata": {},
   "source": [
    "# Exercises: Level 3"
   ]
  },
  {
   "cell_type": "markdown",
   "metadata": {},
   "source": [
    "1. Here we have a person's dictionary. Feel free to modify it!\n",
    "        person={\n",
    "    'first_name': 'Yahaya',\n",
    "    'last_name': 'Umar',\n",
    "    'age': 40,\n",
    "    'country': 'Finland',\n",
    "    'is_marred': True,\n",
    "    'skills': ['JavaScript', 'React', 'Node', 'MongoDB', 'Python'],\n",
    "    'address': {\n",
    "        'street': 'Space street',\n",
    "        'zipcode': '02210'\n",
    "    }\n",
    "    }"
   ]
  },
  {
   "cell_type": "code",
   "execution_count": 7,
   "metadata": {},
   "outputs": [
    {
     "name": "stdout",
     "output_type": "stream",
     "text": [
      "Skills: ['JavaScript', 'React', 'Node', 'MongoDB', 'Python']\n",
      "Middle skill: Node\n",
      "Python is one of the skills.\n",
      "Unknown title\n",
      "He is married and lives in Finland.\n"
     ]
    }
   ],
   "source": [
    "# Define the person dictionary\n",
    "person={\n",
    "    'first_name': 'Yahaya',\n",
    "    'last_name': 'Umar',\n",
    "    'age': 40,\n",
    "    'country': 'Finland',\n",
    "    'is_marred': True,\n",
    "    'skills': ['JavaScript', 'React', 'Node', 'MongoDB', 'Python'],\n",
    "    'address': {\n",
    "        'street': 'Space street',\n",
    "        'zipcode': '02210'\n",
    "    }\n",
    "    }\n",
    "# Check if the person dictionary has the key 'skills'\n",
    "if 'skills' in person:\n",
    "    print(\"Skills:\", person['skills'])\n",
    "    middle_index = len(person['skills']) // 2\n",
    "    print(\"Middle skill:\", person['skills'][middle_index])\n",
    "    # Check if the person has Python skill and print out the result\n",
    "    if 'Python' in person['skills']:\n",
    "        print(\"Python is one of the skills.\")\n",
    "    # Determine the title based on skills\n",
    "    if set('skills')== {'JavaScript', 'React'}:\n",
    "        print(\"Front end developer\")\n",
    "    elif set('skills')== {'Node', 'Python', 'MongoDB'}:\n",
    "        print(\"Back end developer\")\n",
    "    elif set('skills')== {'React', 'Node', 'MongoDB'}:\n",
    "        print(\"Full stack developer\")\n",
    "    else:\n",
    "        print(\"Unknown title\")   \n",
    "    #Check if the person is married and lives in Finland\n",
    "    if person['is_marred'] and person['country'] == 'Finland':\n",
    "        print(\"He is married and lives in Finland.\")\n",
    "    else:\n",
    "        print(\"He is not married or does not live in Finland.\")\n",
    "        \n",
    "\n"
   ]
  },
  {
   "cell_type": "markdown",
   "metadata": {},
   "source": []
  },
  {
   "cell_type": "code",
   "execution_count": null,
   "metadata": {},
   "outputs": [],
   "source": []
  }
 ],
 "metadata": {
  "kernelspec": {
   "display_name": "base",
   "language": "python",
   "name": "python3"
  },
  "language_info": {
   "codemirror_mode": {
    "name": "ipython",
    "version": 3
   },
   "file_extension": ".py",
   "mimetype": "text/x-python",
   "name": "python",
   "nbconvert_exporter": "python",
   "pygments_lexer": "ipython3",
   "version": "3.12.3"
  }
 },
 "nbformat": 4,
 "nbformat_minor": 2
}

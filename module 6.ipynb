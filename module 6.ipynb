{
 "cells": [
  {
   "cell_type": "markdown",
   "metadata": {},
   "source": [
    "# Exercises: Module 6"
   ]
  },
  {
   "cell_type": "markdown",
   "metadata": {},
   "source": [
    "1. Create an empty dictionary called dog\n"
   ]
  },
  {
   "cell_type": "code",
   "execution_count": null,
   "metadata": {},
   "outputs": [],
   "source": [
    "dog= {}"
   ]
  },
  {
   "cell_type": "markdown",
   "metadata": {},
   "source": [
    "2. Add name, color, breed, legs, age to the dog dictionary "
   ]
  },
  {
   "cell_type": "code",
   "execution_count": 7,
   "metadata": {},
   "outputs": [
    {
     "name": "stdout",
     "output_type": "stream",
     "text": [
      "{'name': 'Roony', 'color': 'Brown', 'breed': 'Bulldog', 'legs': 4, 'age': 7}\n"
     ]
    }
   ],
   "source": [
    "dog= {}\n",
    "dog['name'] = 'Roony'\n",
    "dog['color'] = 'Brown'\n",
    "dog['breed'] = 'Bulldog'\n",
    "dog['legs'] = 4\n",
    "dog['age'] = 7\n",
    "print(dog)\n"
   ]
  },
  {
   "cell_type": "markdown",
   "metadata": {},
   "source": [
    "3. Create a student dictionary and add first_name, last_name, gender, age, marital status, skills, country, city and address as keys for the dictionary"
   ]
  },
  {
   "cell_type": "code",
   "execution_count": 2,
   "metadata": {},
   "outputs": [
    {
     "name": "stdout",
     "output_type": "stream",
     "text": [
      "{'first_name': 'Maryam', 'last_name': 'Mahmud', 'gender': 'Female', 'age': 28, 'marital_status': 'Married', 'skills': ['Python', 'Data Analysis', 'Machine Learning'], 'country': 'Nigeria', 'city': 'Lagos', 'address': ' kolawole Street, Ipaja Lagos.'}\n"
     ]
    }
   ],
   "source": [
    "student = {}\n",
    "\n",
    "# Add the following key, value pairs to the student dictionary\n",
    "student['first_name'] = 'Maryam'\n",
    "student['last_name'] = 'Mahmud'\n",
    "student['gender'] = 'Female'\n",
    "student['age'] = 28\n",
    "student['marital_status'] = 'Married'\n",
    "student['skills'] = ['Python', 'Data Analysis', 'Machine Learning']\n",
    "student['country'] = 'Nigeria'\n",
    "student['city'] = 'Lagos'\n",
    "student['address'] = ' kolawole Street, Ipaja Lagos.'\n",
    "# Print the dictionary to see the added items\n",
    "print(student)\n"
   ]
  },
  {
   "cell_type": "markdown",
   "metadata": {},
   "source": [
    "4. Get the length of student dictionary"
   ]
  },
  {
   "cell_type": "code",
   "execution_count": 3,
   "metadata": {},
   "outputs": [
    {
     "name": "stdout",
     "output_type": "stream",
     "text": [
      "9\n"
     ]
    }
   ],
   "source": [
    "student= {\n",
    "    'first_name': 'Maryam',\n",
    "    'last_name': 'Mahmud',\n",
    "    'gender': 'Female',\n",
    "    'age': 28,\n",
    "    'marital_status': 'Married',\n",
    "    'skills': ['Python', 'Data Analysis', 'Machine Learning'],\n",
    "    'country': 'Nigeria',\n",
    "    'city': 'Lagos',\n",
    "    'address': {\n",
    "        'street':  'kolawole Street' 'Ipaja' 'Lagos', \n",
    "        'zipcode': 100266\n",
    "    }\n",
    "}\n",
    "print(len(student))"
   ]
  },
  {
   "cell_type": "markdown",
   "metadata": {},
   "source": [
    "5. Get the value of skills and check the data type, it should be a list"
   ]
  },
  {
   "cell_type": "code",
   "execution_count": 4,
   "metadata": {},
   "outputs": [
    {
     "name": "stdout",
     "output_type": "stream",
     "text": [
      "['Python', 'Data Analysis', 'Machine Learning']\n",
      "<class 'list'>\n"
     ]
    }
   ],
   "source": [
    "student= {\n",
    "    'first_name': 'Maryam',\n",
    "    'last_name': 'Mahmud',\n",
    "    'gender': 'Female',\n",
    "    'age': 28,\n",
    "    'marital_status': 'Married',\n",
    "    'skills': ['Python', 'Data Analysis', 'Machine Learning'],\n",
    "    'country': 'Nigeria',\n",
    "    'city': 'Lagos',\n",
    "    'address': {\n",
    "        'street':  'kolawole Street' 'Ipaja' 'Lagos', \n",
    "        'zipcode': 100266\n",
    "    }\n",
    "}\n",
    "# get the value of skills and check the data type\n",
    "print(student['skills'])\n",
    "print(type(student['skills']))"
   ]
  },
  {
   "cell_type": "markdown",
   "metadata": {},
   "source": [
    "6. Modify the skills values by adding one or two skills"
   ]
  },
  {
   "cell_type": "code",
   "execution_count": 5,
   "metadata": {},
   "outputs": [
    {
     "name": "stdout",
     "output_type": "stream",
     "text": [
      "['Python', 'Data Analysis', 'Machine Learning', 'HTML', 'CSS']\n"
     ]
    }
   ],
   "source": [
    "student= {\n",
    "    'first_name': 'Maryam',\n",
    "    'last_name': 'Mahmud',\n",
    "    'gender': 'Female',\n",
    "    'age': 28,\n",
    "    'marital_status': 'Married',\n",
    "    'skills': ['Python', 'Data Analysis', 'Machine Learning'],\n",
    "    'country': 'Nigeria',\n",
    "    'city': 'Lagos',\n",
    "    'address': {\n",
    "        'street':  'kolawole Street' 'Ipaja' 'Lagos', \n",
    "        'zipcode': 100266\n",
    "    }\n",
    "}\n",
    "student['skills'].append('HTML')\n",
    "student['skills'].append('CSS')\n",
    "print(student['skills'])"
   ]
  },
  {
   "cell_type": "markdown",
   "metadata": {},
   "source": [
    "7. Get the dictionary keys as a list"
   ]
  },
  {
   "cell_type": "code",
   "execution_count": 6,
   "metadata": {},
   "outputs": [
    {
     "name": "stdout",
     "output_type": "stream",
     "text": [
      "dict_keys(['first_name', 'last_name', 'gender', 'age', 'marital_status', 'skills', 'country', 'city', 'address'])\n"
     ]
    }
   ],
   "source": [
    "student= {\n",
    "    'first_name': 'Maryam',\n",
    "    'last_name': 'Mahmud',\n",
    "    'gender': 'Female',\n",
    "    'age': 28,\n",
    "    'marital_status': 'Married',\n",
    "    'skills': ['Python', 'Data Analysis', 'Machine Learning'],\n",
    "    'country': 'Nigeria',\n",
    "    'city': 'Lagos',\n",
    "    'address': {\n",
    "        'street':  'kolawole Street' 'Ipaja' 'Lagos', \n",
    "        'zipcode': 100266\n",
    "    }\n",
    "}\n",
    "#get the dictionary keys as a list\n",
    "print(student.keys())"
   ]
  },
  {
   "cell_type": "markdown",
   "metadata": {},
   "source": [
    "8. Get the dictionary values as a list"
   ]
  },
  {
   "cell_type": "code",
   "execution_count": 7,
   "metadata": {},
   "outputs": [
    {
     "name": "stdout",
     "output_type": "stream",
     "text": [
      "dict_values(['Maryam', 'Mahmud', 'Female', 28, 'Married', ['Python', 'Data Analysis', 'Machine Learning'], 'Nigeria', 'Lagos', {'street': 'kolawole StreetIpajaLagos', 'zipcode': 100266}])\n"
     ]
    }
   ],
   "source": [
    "student= {\n",
    "    'first_name': 'Maryam',\n",
    "    'last_name': 'Mahmud',\n",
    "    'gender': 'Female',\n",
    "    'age': 28,\n",
    "    'marital_status': 'Married',\n",
    "    'skills': ['Python', 'Data Analysis', 'Machine Learning'],\n",
    "    'country': 'Nigeria',\n",
    "    'city': 'Lagos',\n",
    "    'address': {\n",
    "        'street':  'kolawole Street' 'Ipaja' 'Lagos', \n",
    "        'zipcode': 100266\n",
    "    }\n",
    "}\n",
    "#get the dictionary values as a list\n",
    "print(student.values())"
   ]
  },
  {
   "cell_type": "markdown",
   "metadata": {},
   "source": [
    "9. Change the dictionary to a list of tuples using items() method"
   ]
  },
  {
   "cell_type": "code",
   "execution_count": 8,
   "metadata": {},
   "outputs": [
    {
     "name": "stdout",
     "output_type": "stream",
     "text": [
      "dict_items([('first_name', 'Maryam'), ('last_name', 'Mahmud'), ('gender', 'Female'), ('age', 28), ('marital_status', 'Married'), ('skills', ['Python', 'Data Analysis', 'Machine Learning']), ('country', 'Nigeria'), ('city', 'Lagos'), ('address', {'street': 'kolawole StreetIpajaLagos', 'zipcode': 100266})])\n"
     ]
    }
   ],
   "source": [
    "student= {\n",
    "    'first_name': 'Maryam',\n",
    "    'last_name': 'Mahmud',\n",
    "    'gender': 'Female',\n",
    "    'age': 28,\n",
    "    'marital_status': 'Married',\n",
    "    'skills': ['Python', 'Data Analysis', 'Machine Learning'],\n",
    "    'country': 'Nigeria',\n",
    "    'city': 'Lagos',\n",
    "    'address': {\n",
    "        'street':  'kolawole Street' 'Ipaja' 'Lagos', \n",
    "        'zipcode': 100266\n",
    "    }\n",
    "}\n",
    "#change the dictionary to a list of tuples using items() method\n",
    "print(student.items())"
   ]
  },
  {
   "cell_type": "markdown",
   "metadata": {},
   "source": [
    "10. Delete one of the items in the dictionary"
   ]
  },
  {
   "cell_type": "code",
   "execution_count": 10,
   "metadata": {},
   "outputs": [
    {
     "name": "stdout",
     "output_type": "stream",
     "text": [
      "{'first_name': 'Maryam', 'last_name': 'Mahmud', 'gender': 'Female', 'age': 28, 'skills': ['Python', 'Data Analysis', 'Machine Learning'], 'country': 'Nigeria', 'city': 'Lagos', 'address': {'street': 'kolawole StreetIpajaLagos', 'zipcode': 100266}}\n"
     ]
    }
   ],
   "source": [
    "student= {\n",
    "    'first_name': 'Maryam',\n",
    "    'last_name': 'Mahmud',\n",
    "    'gender': 'Female',\n",
    "    'age': 28,\n",
    "    'marital_status': 'Married',\n",
    "    'skills': ['Python', 'Data Analysis', 'Machine Learning'],\n",
    "    'country': 'Nigeria',\n",
    "    'city': 'Lagos',\n",
    "    'address': {\n",
    "        'street':  'kolawole Street' 'Ipaja' 'Lagos', \n",
    "        'zipcode': 100266\n",
    "    }\n",
    "}\n",
    "#delete one item in the dictionary\n",
    "del student['marital_status']\n",
    "print(student)"
   ]
  },
  {
   "cell_type": "markdown",
   "metadata": {},
   "source": [
    "11. Delete one of the dictionaries"
   ]
  },
  {
   "cell_type": "code",
   "execution_count": 11,
   "metadata": {},
   "outputs": [
    {
     "name": "stdout",
     "output_type": "stream",
     "text": [
      "{'first_name': 'Maryam', 'last_name': 'Mahmud', 'gender': 'Female', 'age': 28, 'marital_status': 'Married', 'skills': ['Python', 'Data Analysis', 'Machine Learning'], 'country': 'Nigeria', 'city': 'Lagos', 'address': {'zipcode': 100266}}\n"
     ]
    }
   ],
   "source": [
    "student= {\n",
    "    'first_name': 'Maryam',\n",
    "    'last_name': 'Mahmud',\n",
    "    'gender': 'Female',\n",
    "    'age': 28,\n",
    "    'marital_status': 'Married',\n",
    "    'skills': ['Python', 'Data Analysis', 'Machine Learning'],\n",
    "    'country': 'Nigeria',\n",
    "    'city': 'Lagos',\n",
    "    'address': {\n",
    "        'street':  'kolawole Street' 'Ipaja' 'Lagos', \n",
    "        'zipcode': 100266\n",
    "    }\n",
    "}\n",
    "#delete one of the dictionaries\n",
    "del student['address']['street']\n",
    "print(student)"
   ]
  },
  {
   "cell_type": "markdown",
   "metadata": {},
   "source": []
  },
  {
   "cell_type": "markdown",
   "metadata": {},
   "source": []
  },
  {
   "cell_type": "code",
   "execution_count": null,
   "metadata": {},
   "outputs": [],
   "source": []
  },
  {
   "cell_type": "code",
   "execution_count": null,
   "metadata": {},
   "outputs": [],
   "source": []
  },
  {
   "cell_type": "code",
   "execution_count": null,
   "metadata": {},
   "outputs": [],
   "source": []
  }
 ],
 "metadata": {
  "kernelspec": {
   "display_name": "base",
   "language": "python",
   "name": "python3"
  },
  "language_info": {
   "codemirror_mode": {
    "name": "ipython",
    "version": 3
   },
   "file_extension": ".py",
   "mimetype": "text/x-python",
   "name": "python",
   "nbconvert_exporter": "python",
   "pygments_lexer": "ipython3",
   "version": "3.12.3"
  }
 },
 "nbformat": 4,
 "nbformat_minor": 2
}
